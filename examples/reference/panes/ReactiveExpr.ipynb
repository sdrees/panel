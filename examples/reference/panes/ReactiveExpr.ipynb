{
 "cells": [
  {
   "cell_type": "code",
   "execution_count": null,
   "metadata": {
    "tags": []
   },
   "outputs": [],
   "source": [
    "import panel as pn\n",
    "import param\n",
    "\n",
    "pn.extension('tabulator')"
   ]
  },
  {
   "cell_type": "markdown",
   "metadata": {},
   "source": [
    "The `panel.ReactiveExpr` pane renders a Param `rx` object which represents a reactive expression, displaying both the widgets that are part of the expression and the final output of the expression. The position of the widgets relative to the output can be set, or widgets can be removed entirely. [See the Param documentation on `param.rx`](https://param.holoviz.org/user_guide/Reactive_Expressions.html) for details on using `rx`.\n",
    "\n",
    "#### Parameters:\n",
    "\n",
    "The basic parameters are:\n",
    "\n",
    "* **`object`** (param.reactive): A `param.reactive` expression \n",
    "\n",
    "The more advanced parameters which give you more control are:\n",
    " \n",
    "* **`default_layout`** (panel.layout.base.ListPanel): A layout like Column, Row, etc. or a GridBox.\n",
    "* **`center`** (bool): Whether to center the output.\n",
    "* **`show_widgets`** (bool): Whether to display the widget inputs.\n",
    "* **`widget_layout`** (panel.layout.base.ListPanel): The layout object to display the widgets in.\n",
    "* **`widget_location`** (str): The location of the widgets relative to the output of the reactive expression. One of  'left', 'right', 'top', 'bottom', 'top_left', 'top_right', 'bottom_left', 'bottom_right', 'left_top' (default), 'right_top',right_bottom'.\n",
    "\n",
    "For more layout and styling related parameters see the [customization user guide](../../user_guide/Customization.ipynb).\n",
    "___"
   ]
  },
  {
   "cell_type": "markdown",
   "metadata": {
    "tags": []
   },
   "source": [
    "The `param.rx` API is a powerful tool for building declarative and reactive UIs and the `ReactiveExpr` pane allows turning these declarative expressions into viewable components that render both the (widget) inputs and the outputs of the expression:"
   ]
  },
  {
   "cell_type": "code",
   "execution_count": null,
   "metadata": {
    "tags": []
   },
   "outputs": [],
   "source": [
    "v1 = pn.widgets.FloatInput(value=35)\n",
    "v2 = pn.widgets.FloatInput(value=7)\n",
    "\n",
    "expr = v1.rx() + v2.rx()\n",
    "\n",
    "pn.ReactiveExpr(expr)"
   ]
  },
  {
   "cell_type": "markdown",
   "metadata": {},
   "source": [
    "When Panel is imported an `rx` expression will automatically be rendered using the `ReactiveExpr` object, i.e. displaying `expr` on its own or putting it in a layout is exactly equivalent to the version above."
   ]
  },
  {
   "cell_type": "code",
   "execution_count": null,
   "metadata": {},
   "outputs": [],
   "source": [
    "expr"
   ]
  },
  {
   "cell_type": "markdown",
   "metadata": {},
   "source": [
    "Note that this is different from using the expression as a *reference*, i.e. passing it to another component for it to resolve the value of the expression dynamically:"
   ]
  },
  {
   "cell_type": "code",
   "execution_count": null,
   "metadata": {},
   "outputs": [],
   "source": [
    "pn.Row(v1, '`+`', v2, '`=`', pn.pane.Str(expr))"
   ]
  },
  {
   "cell_type": "markdown",
   "metadata": {},
   "source": [
    "The *reference* approach should generally be preferred as it is more declarative and explicit, allowing Panel to efficiently update the existing view(s) rather than completely re-rendering the output.\n",
    "\n",
    "The `ReactiveExpr` pane is therefore primarily a way to quickly and interactively work with an expression (particularly in a notebook) or generate a quick UI for a data pipeline. Once you have built the expression and want to integrate it in a larger application it is generally recommended that you use it as a reference as to narrowly scope the precise updates you want to make.\n",
    "\n",
    "Let us work through this in a slightly more complex example, and build an expression to dynamically load some data and sample N rows from it:"
   ]
  },
  {
   "cell_type": "code",
   "execution_count": null,
   "metadata": {},
   "outputs": [],
   "source": [
    "import pandas as pd\n",
    "\n",
    "dataset = pn.widgets.Select(name='Pick a dataset', options={\n",
    "    'penguins': 'https://datasets.holoviz.org/penguins/v1/penguins.csv',\n",
    "    'stocks': 'https://datasets.holoviz.org/stocks/v1/stocks.csv'\n",
    "})\n",
    "nrows = pn.widgets.IntSlider(value=5, start=0, end=20, name='N rows')\n",
    "\n",
    "# Load the currently selected dataset and sample nrows from it\n",
    "df_rx = pn.bind(pd.read_csv, dataset).rx().sample(n=nrows)\n",
    "\n",
    "df_rx"
   ]
  },
  {
   "cell_type": "markdown",
   "metadata": {},
   "source": [
    "Now that we have an expression that does what we want we can use it as a reference to reactive update the `value` of a `Tabulator` widget:"
   ]
  },
  {
   "cell_type": "code",
   "execution_count": null,
   "metadata": {},
   "outputs": [],
   "source": [
    "table = pn.widgets.Tabulator(df_rx, page_size=5, pagination='remote')\n",
    "\n",
    "table.style.bar(cmap='RdYlGn_r')\n",
    "\n",
    "pn.Row(pn.Column(dataset, nrows), table)"
   ]
  },
  {
   "cell_type": "markdown",
   "metadata": {},
   "source": [
    "However, particularly for complex expressions with tons of inputs it may still be useful to use the `ReactiveExpr` object to render all the widget inputs:"
   ]
  },
  {
   "cell_type": "code",
   "execution_count": null,
   "metadata": {},
   "outputs": [],
   "source": [
    "pn.Row(pn.ReactiveExpr(df_rx).widgets, table)"
   ]
  }
 ],
 "metadata": {
  "language_info": {
   "name": "python",
   "pygments_lexer": "ipython3"
  }
 },
 "nbformat": 4,
 "nbformat_minor": 4
}
