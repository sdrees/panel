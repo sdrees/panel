{
 "cells": [
  {
   "cell_type": "markdown",
   "id": "b95cf3a7-c26b-4743-8231-234e83c90583",
   "metadata": {},
   "source": [
    ":::{note} Tutorial 7. **Styling**\n",
    ":icon: false\n",
    "\n",
    "#### How to leverage designs, stylesheets and CSS\n",
    "\n",
    "Panel does not require frontend developer experience, instead providing high-level primitives called `Design` components to style your applications. If however, you want to take control over the precise styling of individual components you can write custom templates and CSS stylesheets to modify the look and feel of components. \n",
    "\n",
    ":::"
   ]
  },
  {
   "cell_type": "markdown",
   "id": "b9ae36ea-e374-44b2-b9f5-19baaa0d8e4a",
   "metadata": {},
   "source": [
    "## Designs & Themes\n",
    "\n",
    "A `Design` in Panel is a unified system for styling components across your applications. They were introduced in Panel 1.0 and we are still in the process of improving them to achieve a consistent look and feel.\n",
    "\n",
    "Applying different design systems in Panel can be achieved globally or per component. To select a `design` globally set it via the extension:"
   ]
  },
  {
   "cell_type": "code",
   "execution_count": null,
   "id": "1a88e49c-b7b2-403e-936c-145063e28e63",
   "metadata": {},
   "outputs": [],
   "source": [
    "import panel as pn\n",
    "\n",
    "pn.extension(design='material')"
   ]
  },
  {
   "cell_type": "markdown",
   "id": "f202b072-3219-4a24-b204-1f1b7bad24f5",
   "metadata": {},
   "source": [
    "Alternatively you can also explicitly import and set a `design` on the config:"
   ]
  },
  {
   "cell_type": "code",
   "execution_count": null,
   "id": "ac9b745c-78e9-489b-a5a6-a19f8c60fd4c",
   "metadata": {},
   "outputs": [],
   "source": [
    "from panel.theme import Material\n",
    "\n",
    "pn.config.design = Material"
   ]
  },
  {
   "cell_type": "markdown",
   "id": "d4f55635-5d00-40fc-8e50-99a390f567e6",
   "metadata": {},
   "source": [
    "The available `Design` systems include:\n",
    "    \n",
    "- `Material`: Based on Material Design\n",
    "- `Bootstrap`: Based on the Bootstrap library\n",
    "- `Fast`: Based on the Microsoft Fast Design library\n",
    "- `Native`: The default styling inherited from Bokeh."
   ]
  },
  {
   "cell_type": "code",
   "execution_count": null,
   "id": "2a5524b5-a63d-4505-8336-ec18dc7518b0",
   "metadata": {},
   "outputs": [],
   "source": [
    "from panel.theme import Bootstrap, Material, Fast\n",
    "\n",
    "def components(design=None):\n",
    "    design = design or pn.config.design\n",
    "    return pn.Column(\n",
    "        pn.widgets.FloatSlider(name='Slider', design=design),\n",
    "        pn.widgets.TextInput(name='TextInput', design=design),\n",
    "        pn.widgets.Select(\n",
    "            name='Select', options=['Biology', 'Chemistry', 'Physics'], design=design\n",
    "        ),\n",
    "        pn.widgets.Button(\n",
    "            name='Click me!', icon='hand-click', button_type='primary', design=design\n",
    "        )\n",
    "    )\n",
    "\n",
    "components()"
   ]
  },
  {
   "cell_type": "markdown",
   "id": "a19b9c99-1424-4542-9505-68b2ce71c169",
   "metadata": {},
   "source": [
    "If you want to style a specific component you can also explicitly pass in the `design` parameter:"
   ]
  },
  {
   "cell_type": "code",
   "execution_count": null,
   "id": "461a523e-4b68-4f26-8c19-ea209f0eb273",
   "metadata": {},
   "outputs": [],
   "source": [
    "components(Bootstrap)"
   ]
  },
  {
   "cell_type": "markdown",
   "id": "bb7a4af1-92d1-4a8a-90e3-0673607e0694",
   "metadata": {},
   "source": [
    "We can also switch the theme from 'default' to 'dark' by setting it in the `extension` or on the `config`:"
   ]
  },
  {
   "cell_type": "code",
   "execution_count": null,
   "id": "6c3b3336-72c3-40e1-9a14-9ce311488986",
   "metadata": {},
   "outputs": [],
   "source": [
    "with pn.config.set(theme = 'dark'):\n",
    "    display(components())"
   ]
  },
  {
   "cell_type": "markdown",
   "id": "4c37532e-3317-49e5-8eb1-cd268cf2d23e",
   "metadata": {},
   "source": [
    ":::{note}\n",
    "In the notebook the theme adapts to the current JupyterLab theme. Try switching to dark mode to observe this.\n",
    ":::"
   ]
  },
  {
   "cell_type": "markdown",
   "id": "83bfaf33-b06d-490e-abcb-6058ce3e1649",
   "metadata": {},
   "source": [
    "## CSS & Stylesheets\n",
    "\n",
    "Panel components are rendered into the [shadow DOM](https://developer.mozilla.org/en-US/docs/Web/Web_Components/Using_shadow_DOM), if you are not familiar with the concept just know that it means that each component is isolated from all others meaning that we can easily apply CSS rules for specific components.\n",
    "\n",
    "To set CSS styles we can use one of two parameters, the `styles` and the `stylesheets` parameter. The former is a dictionary of CSS styles that are applied to the container wrapping the component while stylesheets can contain entire CSS files or inline CSS rules.\n",
    "\n",
    "## `styles`\n",
    "\n",
    "Applying `styles` allows us to style the **container** in a straightforward manner, e.g. here we apply a background and a border around a widget:\n"
   ]
  },
  {
   "cell_type": "code",
   "execution_count": null,
   "id": "0e7f814e-dc8f-4108-beb1-758ba617192d",
   "metadata": {},
   "outputs": [],
   "source": [
    "custom_style = {\n",
    "    'background': '#f9f9f9',\n",
    "    'border': '1px solid black',\n",
    "    'padding': '10px',\n",
    "    'box-shadow': '5px 5px 5px #bcbcbc',\n",
    "    'font-size': '14pt'\n",
    "}\n",
    "\n",
    "pn.widgets.FloatSlider(name='Number', styles=custom_style)"
   ]
  },
  {
   "cell_type": "markdown",
   "id": "40768323-4d7b-4ae8-84ff-5933cb20c0e7",
   "metadata": {},
   "source": [
    "## `stylesheets`\n",
    "\n",
    "Since `styles` only applies to the `<div>` that holds the component we cannot use it to directly modify the styling of the **contents** of the component. This is where `stylesheets` come in, allowing us to provide CSS rules that affect each part of the component. This can be done in one of two ways, either we modify CSS variables or we target the specific DOM node that we want to modify using CSS rules.\n",
    "\n",
    ":::{warning} 1.0.0\n",
    "Note that `styles` and `stylesheets` are new in Panel 1.0.0. As we continue to build on this functionality we will provide ways of modifying the styling of components using CSS variables.\n",
    ":::\n",
    "\n",
    "### CSS Variables\n",
    "\n",
    "In the case of the `FloatSlider` we can modify the dimensions of the handle and the slider using CSS variables like `--handle-width`, `--handle-height` and `--slider-size`. In future we aim to provide a comprehensive list of CSS variables for each component.\n"
   ]
  },
  {
   "cell_type": "code",
   "execution_count": null,
   "id": "55e69f44-593d-4739-9563-d7759b62f5f4",
   "metadata": {},
   "outputs": [],
   "source": [
    "stylesheet = \"\"\"\n",
    ":host {\n",
    "  --handle-width: 15px;\n",
    "  --handle-height: 25px;\n",
    "  --slider-size: 5px;\n",
    "}\n",
    "\"\"\"\n",
    "\n",
    "pn.widgets.FloatSlider(\n",
    "    name='Number', styles=custom_style, stylesheets=[stylesheet]\n",
    ")"
   ]
  },
  {
   "cell_type": "markdown",
   "id": "58232ae8-5d93-46d8-a3c7-88d9f69aeca1",
   "metadata": {},
   "source": [
    "### CSS rules\n",
    "\n",
    "If we need full control over the precise styling of a component we can target specific parts of a component using standard CSS rules, e.g. by identifying the CSS classes applied to each component.\n",
    "\n",
    ":::{tip}\n",
    "To discover how exactly a component is structured and how to target specific parts of a component use the inspect functionality of your browser. For example in Chrome right click on the component, then select inspect and look at the DOM structure, e.g. here is the DOM structure of the `FloatSlider`:\n",
    "\n",
    "```html\n",
    "<div class=\"bk-input-group\">\n",
    "  <div class=\"bk-slider-title\">Number: <span class=\"bk-slider-value\">0</span></div>\n",
    "  <div class=\"noUi-target noUi-ltr noUi-horizontal noUi-txt-dir-ltr\">\n",
    "    <div class=\"noUi-base\">\n",
    "      <div class=\"noUi-connects\">\n",
    "        <div class=\"noUi-connect\" style=\"transform: translate(0%, 0px) scale(0, 1); background-color: rgb(230, 230, 230);\"></div>\n",
    "      </div>\n",
    "      <div class=\"noUi-origin\" style=\"transform: translate(-100%, 0px); z-index: 4;\">\n",
    "        <div class=\"noUi-handle noUi-handle-lower\" data-handle=\"0\" tabindex=\"0\" role=\"slider\" aria-orientation=\"horizontal\" aria-valuemin=\"0.0\" aria-valuemax=\"1.0\" aria-valuenow=\"0.0\" aria-valuetext=\"0.00\">\n",
    "\t<div class=\"noUi-touch-area\">\n",
    "      </div>\n",
    "      <div class=\"noUi-tooltip\">0</div>\n",
    "    </div>\n",
    "  </div>\n",
    "</div>\n",
    "```\n",
    "\n",
    "Using the styles pane in the developer console you can then try out various styles before you translate them into specific CSS rules.\n",
    ":::\n",
    "\n",
    "Let's say we want to make the slider handle circular and change its color. Inspecting the HTML we can see that the handle is defined with the CSS class `noUi-handle`. Now we can define a CSS rule with that class that sets a `border-radius` and `background-color`, additionally we unset the `box-shadow`:"
   ]
  },
  {
   "cell_type": "code",
   "execution_count": null,
   "id": "85bd1dca-4e98-4fa3-ae1d-3074b27cf4ad",
   "metadata": {},
   "outputs": [],
   "source": [
    "stylesheet = \"\"\"\n",
    ":host {\n",
    "  --slider-size: 5px;\n",
    "  --handle-width: 16px;\n",
    "  --handle-height: 16px;\n",
    "}\n",
    "\n",
    ".noUi-handle {\n",
    "  border-radius: 100%;\n",
    "  box-shadow: unset;\n",
    "  background-color: #0081f3;\n",
    "}\n",
    "\"\"\"\n",
    "\n",
    "pn.widgets.FloatSlider(\n",
    "    name='Number', styles=custom_style, stylesheets=[stylesheet]\n",
    ")"
   ]
  },
  {
   "cell_type": "markdown",
   "id": "c6268a27-96fd-4021-8418-19b547811fe7",
   "metadata": {},
   "source": [
    "### External stylesheets\n",
    "\n",
    "Inlining stylesheets provides a quick way to override the style of a component but it also means we are sending the stylesheet to the frontend as a string. This can add up when we want to apply this stylesheet to multiple components. Therefore it is recommended that once you move to production the styles are served as an external stylesheet you reference.\n",
    "\n",
    "You can either provide a full URL to the stylesheet and host it yourself or you can [serve static assets alongside your application](../server/static_files.md). Here we load the stylesheet from an external URL:"
   ]
  },
  {
   "cell_type": "code",
   "execution_count": null,
   "id": "be999084-4823-4703-b989-8581353a0568",
   "metadata": {},
   "outputs": [],
   "source": [
    "pn.widgets.FloatSlider(\n",
    "    name='Number', stylesheets=['https://assets.holoviz.org/panel/how_to/styling/noUi.css']\n",
    ")"
   ]
  },
  {
   "cell_type": "markdown",
   "id": "de969e66-de75-41ee-bdda-7c3a1608e8e4",
   "metadata": {},
   "source": [
    "### CSS Classes\n",
    "\n",
    "When building complex stylesheets you will sometimes want to have multiple styles for one component. While it is possible to include a separate stylesheet for each you can also use CSS classes to distinguish between different components. The `css_classes` parameter will apply the CSS class to the shadow root (or container). Let us create two sliders with different CSS classes:\n"
   ]
  },
  {
   "cell_type": "code",
   "execution_count": null,
   "id": "8af77e19-3277-47ec-89a5-fecab9589d7d",
   "metadata": {},
   "outputs": [],
   "source": [
    "color_stylesheet = \"\"\"\n",
    ":host(.red) .noUi-handle {\n",
    "  background-color: red\n",
    "}\n",
    "\n",
    ":host(.green) .noUi-handle {\n",
    "  background-color: green\n",
    "}\n",
    "\n",
    ":host(.blue) .noUi-handle {\n",
    "  background-color: blue\n",
    "}\n",
    "\"\"\"\n",
    "\n",
    "pn.Column(\n",
    "    *(pn.widgets.FloatSlider(name='Number', stylesheets=[stylesheet, color_stylesheet], css_classes=[cls])\n",
    "      for cls in ('red', 'green', 'blue'))\n",
    ")\n"
   ]
  }
 ],
 "metadata": {
  "language_info": {
   "name": "python",
   "pygments_lexer": "ipython3"
  }
 },
 "nbformat": 4,
 "nbformat_minor": 5
}
