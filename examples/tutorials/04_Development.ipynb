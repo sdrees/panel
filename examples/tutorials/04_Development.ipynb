{
 "cells": [
  {
   "cell_type": "markdown",
   "id": "62f0c5b8-77f3-49a1-80da-1f999d074128",
   "metadata": {},
   "source": [
    ":::{note} Tutorial 4. **Efficient Development**\n",
    ":icon: false\n",
    "\n",
    "#### Debugging and effective development in VSCode and JupyterLab\n",
    "\n",
    " It's also important for you to be able to use a coding environment you are comfortable with. To this end, Panel offers very good support for Jupyter Notebooks (Classic and JupyterLab) and editors like Visual Studio Code, which are the two environments we will cover in this guide.\n",
    "\n",
    ":::"
   ]
  },
  {
   "cell_type": "markdown",
   "id": "4085cb1b-724f-4e0a-8cc0-8c1b716db8ba",
   "metadata": {},
   "source": [
    "## Notebook"
   ]
  },
  {
   "cell_type": "markdown",
   "id": "cc308876-ea9f-4e48-99e0-0bcb7675c483",
   "metadata": {},
   "source": [
    "### Notebook friendly"
   ]
  },
  {
   "cell_type": "markdown",
   "id": "410175b5-b52b-4043-abf2-c0801cfd34b9",
   "metadata": {},
   "source": [
    "Jupyter notebooks have been supported in Panel since day 1 and more generally since the inception of the HoloViz project. Notebooks are environments that allow to iterate quickly, running some code and observing instantaneously its output. Notebooks also happen to be a valid deployment option:\n",
    "\n",
    "- you can actually develop apps that are meant to live only in a notebook, that you will share as a file with your colleagues and friends. Panel allows you to make your notebooks more user friendly, like IPywidgets does.\n",
    "- you can serve a notebook with `panel serve file.ipynb`, Panel will parse your notebook to collect all of its code and run it as if it were a Python script."
   ]
  },
  {
   "cell_type": "markdown",
   "id": "2f81c641-4124-42c3-be73-4ec2285ae24f",
   "metadata": {},
   "source": [
    "Jupyter notebooks aren't the only flavor of notebooks available, Panel also supports Visual Studio Code and Google Colab notebooks, and probably works fine on other platforms. For Visual Studio Code notebooks, you will need to install the `jupyter_bokeh` package in your environment."
   ]
  },
  {
   "cell_type": "markdown",
   "id": "f00b8154-cafc-4274-968c-67afeaafe7e8",
   "metadata": {},
   "source": [
    "### `pn.extension`"
   ]
  },
  {
   "cell_type": "markdown",
   "id": "c88cbc4b-8b2c-4e73-8037-3f3e90b9a1e5",
   "metadata": {},
   "source": [
    "The first step when working in a notebook environment should **always** be to load the `pn.extension`:"
   ]
  },
  {
   "cell_type": "code",
   "execution_count": null,
   "id": "80148714-038b-42f1-97a9-0b027e028928",
   "metadata": {
    "tags": []
   },
   "outputs": [],
   "source": [
    "import panel as pn\n",
    "\n",
    "pn.extension()"
   ]
  },
  {
   "cell_type": "markdown",
   "id": "aa9ff97e-3d1c-4116-9e43-22d6f0b8b4e2",
   "metadata": {},
   "source": [
    "The extension ensures that all required Javascript and CSS resources are added to your notebook environment. If you are going to be using any custom extensions, such as [Vega](https://panel.holoviz.org/reference/panes/Vega.html) or [Tabulator](https://panel.holoviz.org/reference/widgets/Tabulator.html) you must ensure that you initialize these as well."
   ]
  },
  {
   "cell_type": "code",
   "execution_count": null,
   "id": "64bcd2de-2452-4ef8-9061-89d204ed2b6f",
   "metadata": {
    "tags": []
   },
   "outputs": [],
   "source": [
    "pn.extension('vega', 'tabulator')"
   ]
  },
  {
   "cell_type": "markdown",
   "id": "b124f259-f36c-458e-b8ca-d51f4e16f33b",
   "metadata": {},
   "source": [
    "### Rich display"
   ]
  },
  {
   "cell_type": "markdown",
   "id": "13f14836-8ff1-400d-8ddb-c0166708e902",
   "metadata": {},
   "source": [
    "One of the major benefits of notebook environments is that they support rich output. This means that if you place an object with rich output at the end of a cell the notebook will figure out how to render the rich representation. Panel uses this mechanism to ensure that all components return a rich representation."
   ]
  },
  {
   "cell_type": "code",
   "execution_count": null,
   "id": "bfa21c46-090b-466b-9321-a3a3e06aabcd",
   "metadata": {
    "tags": []
   },
   "outputs": [],
   "source": [
    "pane = pn.panel('<marquee>Here is some custom HTML</marquee>')\n",
    "pane"
   ]
  },
  {
   "cell_type": "markdown",
   "id": "0c34de17-436c-44f3-8c25-feac8e25630d",
   "metadata": {},
   "source": [
    "To instead see a textual representation of the component, you can use the `print` function on any Panel object."
   ]
  },
  {
   "cell_type": "code",
   "execution_count": null,
   "id": "ddd8ecad-f235-49cc-a75e-47f3e57d3e6d",
   "metadata": {
    "tags": []
   },
   "outputs": [],
   "source": [
    "print(pane)"
   ]
  },
  {
   "cell_type": "markdown",
   "id": "5b594e85-f7c4-4ca2-a6cf-a2059e14757d",
   "metadata": {},
   "source": [
    "### Callback logs"
   ]
  },
  {
   "cell_type": "markdown",
   "id": "a0a2f94e-a1bb-492c-bddb-bb525b5271b9",
   "metadata": {},
   "source": [
    "When you set up interactivity in your app using one of the various ways Panel offers to register a callback (e.g. `param.bind`, `@param.watch`, `on_<event>` methods), it can be useful for you as a developer to print some debug information. Panel catches all the content sent to *stdout* and *stderr* when callbacks are executed and renders it above the displayed object. The default mode of this functionality is to accumulate content, you can modify this by setting `pn.config.console_output` to `'replace'` for instance to only see the last message caught. Move the slider in the little app below to see the stream of printed messages being displayed in the notebook."
   ]
  },
  {
   "cell_type": "code",
   "execution_count": null,
   "id": "254f5d4f-f378-427f-be7b-b82fe5e68da1",
   "metadata": {},
   "outputs": [],
   "source": [
    "pn.config.console_output = False"
   ]
  },
  {
   "cell_type": "code",
   "execution_count": null,
   "id": "38da29ac-4f6a-484a-be7c-7b1ae2355782",
   "metadata": {
    "tags": []
   },
   "outputs": [],
   "source": [
    "def compute(i):\n",
    "    print(f'debug {i}')\n",
    "    return '❤️' * i\n",
    "\n",
    "w = pn.widgets.IntSlider(value=1, start=1, end=10)\n",
    "\n",
    "pn.Row(w, pn.bind(compute, w))"
   ]
  },
  {
   "cell_type": "markdown",
   "id": "f9c47377-0e9e-4621-86a3-5c0a9ae17e90",
   "metadata": {},
   "source": [
    "### Render templates"
   ]
  },
  {
   "cell_type": "markdown",
   "id": "b13cbdc1-7e9b-4c3d-99b1-b692cdd5d1f1",
   "metadata": {
    "tags": []
   },
   "source": [
    "You have been told in the previous guide to avoid rendering Panel templates in a notebook. That's however not a dead end! There are two approaches you can leverage to display an app that is wrapped in a template while working from a notebook, in addition to just being able to serve the notebook with `panel serve notebook.ipynb`."
   ]
  },
  {
   "cell_type": "markdown",
   "id": "7f416cad-d8df-4ab4-9c91-e150190948d3",
   "metadata": {},
   "source": [
    "Templates, as any other Panel visual components, are equipped with the `.show()` method that when called starts a Bokeh server, serves your app and opens it in a new tab. While this approach doesn't allow you to iterate super quickly, it's a simple way to check what your app looks like when served."
   ]
  },
  {
   "cell_type": "code",
   "execution_count": null,
   "id": "f1c84c0e-9fc6-4839-887a-2d9112ebaf34",
   "metadata": {
    "tags": []
   },
   "outputs": [],
   "source": [
    "template = pn.template.BootstrapTemplate(\n",
    "    title='Loving Panel!',\n",
    "    sidebar=['**Text 1**', '**Text 2**'],\n",
    "    main=['Main area'],\n",
    ")\n",
    "# Uncomment the next line to try out `.show()`\n",
    "template;#.show();"
   ]
  },
  {
   "cell_type": "markdown",
   "id": "f042479c-79cc-46cd-acab-ada7e43d5664",
   "metadata": {},
   "source": [
    "The second approach deserves a section of its own."
   ]
  },
  {
   "cell_type": "markdown",
   "id": "abc9e12b-edb2-4a19-ad53-4158a9ca510d",
   "metadata": {},
   "source": [
    "### *Preview* functionality"
   ]
  },
  {
   "cell_type": "markdown",
   "id": "af9608e9-db8b-4f98-885a-f068eeae72d1",
   "metadata": {},
   "source": [
    "With the *Preview* functionality, available in JupyterLab, you can display the app you are building in a JupyterLab tab right next to your code. This is a traditional setup for web developers, who like to quickly visualize the effects of their code changes."
   ]
  },
  {
   "cell_type": "markdown",
   "id": "c7f751f2-b113-404a-846c-ba309bfac6d2",
   "metadata": {},
   "source": [
    "To have your app appear in the *Preview*, you need to mark the objects you want to display with `.servable()`. This is identical to how you would mark objects that you want to serve with `panel serve ...`."
   ]
  },
  {
   "cell_type": "markdown",
   "id": "d8892500-7d7b-47d8-a385-f910f26a29ab",
   "metadata": {},
   "source": [
    "You can enable the *Preview* by clicking on Panel’s logo in the menu bar of your notebook. Once clicked, you should see a new tab being opened next to your notebook tab, and after some moment your app will be rendered in this tab. Just try it out!"
   ]
  },
  {
   "cell_type": "code",
   "execution_count": null,
   "id": "b65942b1-da89-4fdc-97c6-ab5c661b0b26",
   "metadata": {
    "tags": []
   },
   "outputs": [],
   "source": [
    "template = pn.template.BootstrapTemplate(title='HM Training!')\n",
    "\n",
    "def compute(i):\n",
    "    return '❤️' * i\n",
    "\n",
    "w_number = pn.widgets.IntSlider(value=5, start=1, end=5)\n",
    "p_hearts = pn.panel(pn.bind(compute, w_number))\n",
    "\n",
    "template.sidebar.append(w_number)\n",
    "template.main.append(p_hearts)\n",
    "template.servable();"
   ]
  },
  {
   "cell_type": "markdown",
   "id": "bd8441da-5355-4a73-a7c8-7de70e087c0c",
   "metadata": {},
   "source": [
    ":::{tip}\n",
    "\n",
    "Note the `;` at the end of `template.servable();`. This is a special IPython command that prevents the output of a cell from being displayed. This comes in handy when dealing with templates in a notebook!\n",
    ":::"
   ]
  },
  {
   "cell_type": "markdown",
   "id": "d6dd7ebb-e174-41d9-a042-db1e1d6ae509",
   "metadata": {},
   "source": [
    "This is what you should be able to see after a little while. Now tick `Render on Save` in the *Preview*, change the heart for a ⭐ in the notebook and save it, shortly after the preview will display an updated app."
   ]
  },
  {
   "cell_type": "markdown",
   "id": "f14fbaaa-0a23-4d48-b06b-ac068e2a7888",
   "metadata": {},
   "source": [
    "![alt text](assets/preview.png)"
   ]
  },
  {
   "cell_type": "markdown",
   "id": "eb98f3e5-d2a1-4fba-bb13-5a05dcd41bdc",
   "metadata": {},
   "source": [
    "## Visual Studio Code"
   ]
  },
  {
   "cell_type": "markdown",
   "id": "2b1d6a37-1251-4377-abd3-7a877782fc0c",
   "metadata": {},
   "source": [
    "Visual Studio Code (VS Code) has quickly become one of the most popular Python coding environment. In this section you will see how you can to set yourself a nice developer experience with VS Code when developing a Panel app."
   ]
  },
  {
   "cell_type": "markdown",
   "id": "a918b318-de2c-4230-a270-5447b3e197da",
   "metadata": {},
   "source": [
    "### Setup and autoreload"
   ]
  },
  {
   "cell_type": "markdown",
   "id": "5d748d9b-54db-4124-9d71-ca5d4046cbe1",
   "metadata": {},
   "source": [
    "Save the content of the next cell in a file named `app.py`."
   ]
  },
  {
   "cell_type": "markdown",
   "id": "07d8679f-b76c-430d-8091-8c809c927723",
   "metadata": {},
   "source": [
    "```python\n",
    "# app.py\n",
    "import panel as pn\n",
    "\n",
    "template = pn.template.BootstrapTemplate(title='Loving Panel!')\n",
    "\n",
    "\n",
    "def compute(i):\n",
    "    return '❤️' * i\n",
    "\n",
    "\n",
    "w_number = pn.widgets.IntSlider(value=5, start=1, end=5)\n",
    "p_hearts = pn.panel(pn.bind(compute, w_number))\n",
    "\n",
    "template.sidebar.append(w_number)\n",
    "template.main.append(p_hearts)\n",
    "template.servable()\n",
    "```"
   ]
  },
  {
   "cell_type": "markdown",
   "id": "0edee65c-498c-4887-b03b-8d48c858c490",
   "metadata": {},
   "source": [
    "From the VS Code terminal run the following command."
   ]
  },
  {
   "cell_type": "markdown",
   "id": "e0c07097-5f31-4407-8607-4de2d1ab3fec",
   "metadata": {},
   "source": [
    "```bash\n",
    "panel serve app.py --show --autoreload\n",
    "```"
   ]
  },
  {
   "cell_type": "markdown",
   "id": "1b5f4441-7643-4640-b8aa-cf547a3a7a89",
   "metadata": {},
   "source": [
    "The `--show` flag will open a browser tab with the live app and the `--autoreload` flag ensures that the app reloads whenever you make a change to the Python source. `--autoreload` is key to your developer experience, you will see the app being updated live when you save your app file! In the image below the windows have been re-arranged the way web developers like, on one side the code and on the other side a live view of the app, just like the *Preview* functionality in Jupyterlab."
   ]
  },
  {
   "cell_type": "markdown",
   "id": "9c044e16-c37a-4af7-9734-42152fd17a2f",
   "metadata": {},
   "source": [
    "![alt text](assets/vscode1.png)"
   ]
  },
  {
   "cell_type": "markdown",
   "id": "798487f8-b88d-4dec-a238-27be0b280ef8",
   "metadata": {},
   "source": [
    "### Debugging"
   ]
  },
  {
   "cell_type": "markdown",
   "id": "2ac535f5-3677-43c9-9fb5-2bf2fe0c41bf",
   "metadata": {},
   "source": [
    "While you can debug your app using the often blamed but never outperformed `print`, or by manually adding breakpoints with `breakpoint()`, the VS Code integrated debugger offers a more user friendly experience. "
   ]
  },
  {
   "cell_type": "markdown",
   "id": "f8b0d36d-d60a-495e-9680-e33afbd3e0ec",
   "metadata": {},
   "source": [
    "To configure the integrated debugger for Panel, you will need to add a debugging configuration like the following."
   ]
  },
  {
   "cell_type": "markdown",
   "id": "6c3775c8-f82e-4739-8a8e-50f879bdba6f",
   "metadata": {},
   "source": [
    "```json\n",
    "// .vscode/launch.json\n",
    "{\n",
    "    \"version\": \"0.2.0\",\n",
    "    \"configurations\": [\n",
    "        {\n",
    "            \"name\": \"panel serve\",\n",
    "            \"type\": \"python\",\n",
    "            \"request\": \"launch\",\n",
    "            \"program\": \"-m\",\n",
    "            \"args\": [\n",
    "                \"panel\",\n",
    "                \"serve\",\n",
    "                \"${relativeFile}\",\n",
    "                \"--show\"\n",
    "            ],\n",
    "            \"console\": \"integratedTerminal\",\n",
    "            \"justMyCode\": true\n",
    "        }\n",
    "    ]\n",
    "}\n",
    "```"
   ]
  },
  {
   "cell_type": "markdown",
   "id": "5426ef0e-b19f-4e46-912d-671a73a5f89e",
   "metadata": {},
   "source": [
    "With this configuration in place, launching the debugger will serve the file you are working on with Panel, open a new browser tab pointing at the served app. Interact then with your app to hit one of the breakpoints you set up in VS Code."
   ]
  },
  {
   "cell_type": "markdown",
   "id": "9f60fceb-3613-408f-bc0f-00ead867bd38",
   "metadata": {},
   "source": [
    "![alt text](assets/vscode2.png)"
   ]
  }
 ],
 "metadata": {
  "language_info": {
   "name": "python",
   "pygments_lexer": "ipython3"
  }
 },
 "nbformat": 4,
 "nbformat_minor": 5
}
