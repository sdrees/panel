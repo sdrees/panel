{
 "cells": [
  {
   "cell_type": "markdown",
   "id": "5b16c009-e123-48c9-aeb1-84ba190d2a0f",
   "metadata": {},
   "source": [
    ":::{note} Tutorial 1. **Param**\n",
    ":icon: false\n",
    "\n",
    "#### Param Basics for Panel\n",
    "\n",
    "Panel and other projects in the HoloViz ecosystem all build on Param. Param provides a framework to add validation, documentation and interactivity to a project. It is similar to more modern projects such as Pydantic but focuses primarily on providing APIs that make it easy to express complex dependencies, reactivity and UI interactions.\n",
    "\n",
    "Here we won't focus on how Param works but instead try to get you to understand the fundamentals that will allow you to effectively use Panel, express interactivity and reactivity in idiomatic ways and lastly how to structure your code to make it easily reusable and avoid callback hell.\n",
    "\n",
    "By the end of this section you should:\n",
    "\n",
    "- Have a clear understanding of the difference between the Parameter value and the Parameter object\n",
    "- Use Parameter objects, bound functions and expressions as proxies or references for their current value\n",
    "- Write Parameterized classes that encapsulate multiple components\n",
    ":::"
   ]
  },
  {
   "cell_type": "code",
   "execution_count": null,
   "id": "05081193-c6b8-46c9-82a8-3057983b6ef7",
   "metadata": {},
   "outputs": [],
   "source": [
    "import time\n",
    "\n",
    "import param\n",
    "import panel as pn\n",
    "\n",
    "pn.extension('tabulator')"
   ]
  },
  {
   "cell_type": "markdown",
   "id": "835fed8c-492d-4cd1-a370-4dffd498fc3c",
   "metadata": {},
   "source": [
    "## What is a Parameter?\n",
    "\n",
    "Parameters are objects that express the semantics of a value of an attribute on an object, e.g. the `value` of `Widget`, i.e. whether it is a number or a string. Generally Parameters are broader than Python types because they deal with semantics not the specific representation of a value. A `Parameter` object also acts as a reference to the underlying value, which is incredibly useful when trying to add interactivity to a UI.\n",
    "\n",
    "Let's look at a parameter definition, in this case for the Panel `TextInput` widget `value` parameter:\n",
    "\n",
    "```python\n",
    "class TextInput(Widget):\n",
    "\n",
    "    ...\n",
    "    \n",
    "    value = param.String(default='', allow_None=True, doc=\"\"\"\n",
    "        Initial or entered text value updated when <enter> key is pressed.\"\"\")\n",
    "```\n",
    "\n",
    "A `Parameter` must be defined inside a class and that class must be a subclass of `Parameterized`. We can also see that it is of type `param.String`, defines a default of `''` and allows `None` value. It also has a docstring which gives us information about it.\n",
    "\n",
    "To inspect all the parameters on a `Parameterized` class we can view the `repr` of the `.param` namespace:"
   ]
  },
  {
   "cell_type": "code",
   "execution_count": null,
   "id": "4d45dcc8-58cd-4735-9a06-f62d478736ec",
   "metadata": {},
   "outputs": [],
   "source": [
    "pn.widgets.TextInput.param"
   ]
  },
  {
   "cell_type": "markdown",
   "id": "9b558916-b62c-48ac-a78f-54028007a7c5",
   "metadata": {},
   "source": [
    "### Accessing parameter values\n",
    "\n",
    "Let's start by working with a `TextInput` widget:"
   ]
  },
  {
   "cell_type": "code",
   "execution_count": null,
   "id": "ab72b8da-b5a8-4b4d-8a1d-3b9c8ea8d147",
   "metadata": {},
   "outputs": [],
   "source": [
    "text_input = pn.widgets.TextInput(value='A string!')\n",
    "\n",
    "text_input"
   ]
  },
  {
   "cell_type": "markdown",
   "id": "8ae46a98-11fe-4ad2-8f9b-6eacf4460a7e",
   "metadata": {},
   "source": [
    "We can access the current value of the widget:"
   ]
  },
  {
   "cell_type": "code",
   "execution_count": null,
   "id": "591e25c7-aef4-4ca9-8422-1d353fa8f900",
   "metadata": {},
   "outputs": [],
   "source": [
    "text_input.value"
   ]
  },
  {
   "cell_type": "markdown",
   "id": "102ee760-6838-43f8-a3ca-5c5f25911a33",
   "metadata": {},
   "source": [
    "But we can also access the `Parameter` instance that acts as a proxy or reference for value:"
   ]
  },
  {
   "cell_type": "code",
   "execution_count": null,
   "id": "f60e522b-fb1e-4985-a237-59a023340cf4",
   "metadata": {},
   "outputs": [],
   "source": [
    "text_input.param.value"
   ]
  },
  {
   "cell_type": "markdown",
   "id": "2a812be1-1ff4-4614-9557-6e9a12e094b3",
   "metadata": {},
   "source": [
    "Why and how to use such a reference is something we will discover a little bit later on."
   ]
  },
  {
   "cell_type": "markdown",
   "id": "39ed0459-5ad7-440c-bdd8-3bebcd1782a8",
   "metadata": {},
   "source": [
    "### Setting parameter values\n",
    "\n",
    "We can also set it to a new value:"
   ]
  },
  {
   "cell_type": "code",
   "execution_count": null,
   "id": "3ed97421-4e1a-46b3-bcef-bc4e582a272e",
   "metadata": {},
   "outputs": [],
   "source": [
    "text_input.value = 'Hello World!'"
   ]
  },
  {
   "cell_type": "markdown",
   "id": "fd7c919c-bc23-4fc2-9a33-ba465f2727c6",
   "metadata": {},
   "source": [
    "If we want to set multiple parameter values at once we should do so via the `.param.update` method. This ensures that anything that watches for changes on the parameters is only triggered once:"
   ]
  },
  {
   "cell_type": "code",
   "execution_count": null,
   "id": "ec902943-861c-481f-a2fe-b2f1b8f9012d",
   "metadata": {},
   "outputs": [],
   "source": [
    "text_input.param.update(value='Updated!', width=85);"
   ]
  },
  {
   "cell_type": "markdown",
   "id": "dc391b3d-9ded-4cd2-b736-25f466e85aea",
   "metadata": {},
   "source": [
    "We can also use the `.param.update` method as a context manager to set a value temporarily:"
   ]
  },
  {
   "cell_type": "code",
   "execution_count": null,
   "id": "b33371af-4c79-46ea-80e2-9763ef324933",
   "metadata": {},
   "outputs": [],
   "source": [
    "with text_input.param.update(value='Temporary'):\n",
    "    time.sleep(1)"
   ]
  },
  {
   "cell_type": "markdown",
   "id": "315ad0da-f3eb-4088-89be-da744c41eb0b",
   "metadata": {},
   "source": [
    "### Validation\n",
    "\n",
    "The primary purpose of parameters is to perform validation, e.g. if I try to assign an invalid value to a parameter, we will get an error:"
   ]
  },
  {
   "cell_type": "code",
   "execution_count": null,
   "id": "f917aaf5-d66f-43c1-8eae-60c8ad4f2774",
   "metadata": {},
   "outputs": [],
   "source": [
    "import traceback as tb\n",
    "\n",
    "try:\n",
    "    text_input.value = 3.14\n",
    "except ValueError as e:\n",
    "    tb.print_exc()"
   ]
  },
  {
   "cell_type": "markdown",
   "id": "d41b900a-6527-4fbd-98b5-dcfbd7f92b4b",
   "metadata": {},
   "source": [
    "## Parameters as references\n",
    "\n",
    "Above we mentioned that `Parameter` objects can act as proxies or references for the underlying Parameter value. This is a powerful feature when trying to declare interactivity. Let us see what we mean by that with a simple example again based on the `TextInput` widget:"
   ]
  },
  {
   "cell_type": "code",
   "execution_count": null,
   "id": "71308903-925f-4e98-aafc-131b42d21e46",
   "metadata": {},
   "outputs": [],
   "source": [
    "text_in = pn.widgets.TextInput(value='Hello world!')\n",
    "\n",
    "text_out = pn.pane.Markdown(text_in.param.value)\n",
    "\n",
    "pn.Column(text_in, text_out)"
   ]
  },
  {
   "cell_type": "markdown",
   "id": "f92f1dd5-9d54-4660-9c5c-884ae2127a2b",
   "metadata": {},
   "source": [
    "Note how we were able to pass the `value` parameter to the `Markdown` pane. If you attempt to type into the `TextInput` you'll notice that this is now automatically reflected by the Markdown output.\n",
    "\n",
    "This also works when using it for other parameters, e.g. we can add a switch to toggle the visibility of some component:"
   ]
  },
  {
   "cell_type": "code",
   "execution_count": null,
   "id": "4af0c00b-1e90-47c6-823a-692bb023fb87",
   "metadata": {},
   "outputs": [],
   "source": [
    "visible = pn.widgets.Switch(value=True)\n",
    "\n",
    "pn.Row(visible, pn.pane.Markdown('Hello World!', visible=visible))"
   ]
  },
  {
   "cell_type": "markdown",
   "id": "fbb249d3-960d-4304-bce2-711825b3c2a7",
   "metadata": {},
   "source": [
    "Many parameters that accept a container such as a `dictionary` or `list` can also resolve references when they are nested, e.g. if we declare a `styles` dictionary one of the values can be a widget:"
   ]
  },
  {
   "cell_type": "code",
   "execution_count": null,
   "id": "a6ba20c2-5c7d-4194-af26-b09e36cf8e4e",
   "metadata": {},
   "outputs": [],
   "source": [
    "color = pn.widgets.ColorPicker(value='red')\n",
    "\n",
    "md = pn.pane.Markdown('Some Text!', styles={'color': color})\n",
    "\n",
    "pn.Row(color, md)"
   ]
  },
  {
   "cell_type": "markdown",
   "id": "3ee3d80f-19f8-4643-afc8-f8ba80ec4267",
   "metadata": {},
   "source": [
    "Notice that we passed in the widget object directly instead of the `.param.value`. This is possible because widgets are treated as a proxy of their `value` parameter just like a `Parameter` is treated as a proxy for current value."
   ]
  },
  {
   "cell_type": "markdown",
   "id": "55f2a3fe-771f-4aff-b2eb-b107e373b735",
   "metadata": {},
   "source": [
    "## Transforming parameters\n",
    "\n",
    "Often a widget or parameter value will not map directly to the output you want, e.g. let's say we wanted to add some formatting around the text before we render it or you might want to apply a whole pipeline of transformations to your data before it is displayed. Ordinarily you would have to restructure your code to achieve this but with Param you can write reactive expressions. Using `param.rx` (or .rx() on Parameter objects) you can wrap ordinary objects and/or parameters in a proxy that acts like the underlying object. Importantly the reactive expressions will also resolve other references passed to it.\n",
    "\n",
    "Let's create a reactive format string and will in the value based on the input from a widget:"
   ]
  },
  {
   "cell_type": "code",
   "execution_count": null,
   "id": "6486fd53-0760-4334-bf61-47320d3bb448",
   "metadata": {},
   "outputs": [],
   "source": [
    "text_input = pn.widgets.TextInput(value='World')\n",
    "\n",
    "text = pn.rx('**Hello {}!**').format(text_input)\n",
    "\n",
    "md = pn.pane.Markdown(text)\n",
    "\n",
    "pn.Row(text_input, md)"
   ]
  },
  {
   "cell_type": "markdown",
   "id": "12b56520-19f3-4b69-9999-e55e3a689e78",
   "metadata": {},
   "source": [
    "This is especially powerful when working with data where we might want to build a complex pipeline and add controls to the different stages. Let's load a `DataFrame` and make it reactive:"
   ]
  },
  {
   "cell_type": "code",
   "execution_count": null,
   "id": "1f688dd5-31ad-474b-a757-ce29199427e0",
   "metadata": {},
   "outputs": [],
   "source": [
    "import pandas as pd\n",
    "\n",
    "data_url = 'https://datasets.holoviz.org/windturbines/v1/windturbines.parq'\n",
    "\n",
    "df = pd.read_parquet(data_url)\n",
    "\n",
    "dfrx = pn.rx(df)\n",
    "\n",
    "slider = pn.widgets.IntSlider(start=1, end=10)\n",
    "\n",
    "df.head(2)"
   ]
  },
  {
   "cell_type": "markdown",
   "id": "bb640985-e065-47c2-99a3-75454ea167d7",
   "metadata": {},
   "source": [
    "As you can see it acts just like the underlying DataFrame, allowing you to call methods on it and rendering like normal.\n",
    "\n",
    "Now let's get a little more complex and write a whole pipeline that selects the desired columns, samples a number of random rows, and then applies some custom styling highlighting the rows with the highest value:"
   ]
  },
  {
   "cell_type": "code",
   "execution_count": null,
   "id": "a196f964-be6c-4980-af6b-16ca8ede3ca5",
   "metadata": {},
   "outputs": [],
   "source": [
    "import numpy as np\n",
    "\n",
    "cols  = pn.widgets.MultiChoice(\n",
    "    options=df.columns.to_list(), value=['p_name', 't_state', 't_county', 'p_year', 'p_cap'], height=300\n",
    ") \n",
    "nrows = pn.widgets.IntSlider(start=5, end=20, step=5, value=15, name='Samples')\n",
    "style = pn.rx('color: white; background-color: {color}')\n",
    "color = pn.widgets.ColorPicker(value='darkblue', name='Highlight color')\n",
    "\n",
    "def highlight_max(s, props=''):\n",
    "    if s.dtype.kind not in 'f':\n",
    "        return np.full_like(s, False)\n",
    "    return np.where(s == np.nanmax(s.values), props, '')\n",
    "\n",
    "styled_df = dfrx[cols].sample(nrows).style.apply(highlight_max, props=style.format(color=color), axis=0)\n",
    "\n",
    "pn.pane.DataFrame(styled_df)"
   ]
  },
  {
   "cell_type": "markdown",
   "id": "505fc69a-02f9-404e-b4f1-a5e6940c0e81",
   "metadata": {},
   "source": [
    "As you can see the Pandas code is identical to what you might have written if you were working with a regular DataFrame but you can now use widgets and even complex expressions as inputs."
   ]
  },
  {
   "cell_type": "markdown",
   "id": "029f283a-266e-447a-9f21-9ac8f0130484",
   "metadata": {},
   "source": [
    "### Exercise\n",
    "\n",
    "Write a small app where you can scale the `font-size` of a `Markdown` pane with another widget, e.g. an `IntSlider`. The `font-size` can be set using the `styles` parameter.\n",
    "\n",
    ":::{note} Hint\n",
    ":class: dropdown\n",
    "\n",
    "The `styles` parameter only accepts dictionaries of **strings** but `IntSlider` returns `int` types.\n",
    ":::"
   ]
  },
  {
   "cell_type": "markdown",
   "id": "73133325-134b-4190-b9ae-6dd8422e2957",
   "metadata": {},
   "source": [
    "## Writing Parameterized Classes\n",
    "\n",
    "One last thing we should learn about working with Param in Panel is writing classes. This is useful for a number of reasons:\n",
    "\n",
    "1. Organizing complex pieces of code and functionality\n",
    "2. Writing reusable components made up of multiple Panel objects\n",
    "\n",
    "A Parameterized class has to inherit from `param.Parameterized` and should declare one or more parameters. Here we will start building a `DataExplorer` by declaring two parameters:\n",
    "\n",
    "1. `data`: Accepts a DataFrame\n",
    "2. `page_size`: Controls the page size"
   ]
  },
  {
   "cell_type": "code",
   "execution_count": null,
   "id": "2822d08d-2ce9-41ef-a2aa-c06a9914fa2c",
   "metadata": {},
   "outputs": [],
   "source": [
    "import pandas as pd\n",
    "\n",
    "class DataExplorer(param.Parameterized):\n",
    "    \n",
    "    data = param.DataFrame(doc=\"Stores a DataFrame to explore\")\n",
    "    \n",
    "    page_size = param.Integer(default=10, doc=\"Number of rows per page.\", bounds=(1, 20))\n",
    "    \n",
    "explorer = DataExplorer(data=df, page_size=5)"
   ]
  },
  {
   "cell_type": "markdown",
   "id": "88b0a535-f4c0-4762-9ac9-c48ed5c2d171",
   "metadata": {},
   "source": [
    "This explorer doesn't do anything yet so let's learn how we can turn the UI agnostic parameter declarations into a UI. For that purpose we will learn about `pn.Param`.\n",
    "\n",
    "`pn.Param` allows mapping parameter declarations to widgets that allow editing the parameter value. There is a default mapping from `Parameter` type to the appropriate type but as long as the input matches this can be overridden.\n",
    "\n",
    "Let's start with a simplest case:"
   ]
  },
  {
   "cell_type": "code",
   "execution_count": null,
   "id": "530cc0f3-491a-4744-a9c5-71bb48498638",
   "metadata": {},
   "outputs": [],
   "source": [
    "pn.Param(explorer.param, widgets={'page_size': pn.widgets.IntInput})"
   ]
  },
  {
   "cell_type": "markdown",
   "id": "255a2254-bb60-4dd7-b9f6-7df813da4afe",
   "metadata": {},
   "source": [
    "Notice that each parameter was mapped to a widget appropriate for editing its value, i.e. the `data` was mapped to a `Tabulator` widget and the `page_size` was mapped to an `IntInput` widget.\n",
    "\n",
    "If you try playing with the `page_size` widget you will notice that it doesn't actually do anything.\n",
    "\n",
    "So next let's explicitly map the parameter to a widget using the `Widget.from_param` method. This will also let us provide additional options, e.g. to provide `start` and `end` values for the slider and layout options for the table."
   ]
  },
  {
   "cell_type": "code",
   "execution_count": null,
   "id": "618b02de-928e-4f71-a5b0-31ae338db178",
   "metadata": {},
   "outputs": [],
   "source": [
    "pn.Column(\n",
    "    pn.widgets.IntSlider.from_param(explorer.param.page_size, start=5, end=25, step=5),\n",
    "    pn.widgets.Tabulator.from_param(explorer.param.data, page_size=explorer.param.page_size, sizing_mode='stretch_width')\n",
    ")"
   ]
  },
  {
   "cell_type": "markdown",
   "id": "44ce5f37-7721-4376-b88a-a090d98a35b8",
   "metadata": {},
   "source": [
    "The whole point of using classes is to encapsulate the logic on it, so let's do that. For that we can use a slight extension of the `Parameterized` class that makes the object behave as if it was a regular Panel object. The `Viewer` class does exactly that, all you have to do is implement the `__panel__` method:"
   ]
  },
  {
   "cell_type": "code",
   "execution_count": null,
   "id": "59bdcd9c-d9cc-4fac-811b-da6ec320b7f6",
   "metadata": {},
   "outputs": [],
   "source": [
    "from panel.viewable import Viewer\n",
    "\n",
    "class DataExplorer(Viewer):\n",
    "    \n",
    "    data = param.DataFrame(doc=\"Stores a DataFrame to explore\")\n",
    "\n",
    "    page_size = param.Integer(default=10, doc=\"Number of rows per page.\", bounds=(1, None))\n",
    "\n",
    "    def __panel__(self):\n",
    "        return pn.Column(\n",
    "            pn.widgets.IntSlider.from_param(self.param.page_size, start=5, end=25, step=5),\n",
    "            pn.widgets.Tabulator.from_param(self.param.data, page_size=self.param.page_size, sizing_mode='stretch_width')\n",
    "        )\n",
    "    \n",
    "DataExplorer(data=df)"
   ]
  },
  {
   "cell_type": "markdown",
   "id": "de7ee76d-cf8e-4add-90af-c071363498a4",
   "metadata": {},
   "source": [
    "### Exercise\n",
    "\n",
    "Extend the `DataExplorer` class by adding parameters to control the `theme` and toggling the `show_index` option"
   ]
  }
 ],
 "metadata": {
  "language_info": {
   "name": "python",
   "pygments_lexer": "ipython3"
  }
 },
 "nbformat": 4,
 "nbformat_minor": 5
}
