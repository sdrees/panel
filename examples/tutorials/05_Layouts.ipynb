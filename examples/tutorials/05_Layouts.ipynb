{
 "cells": [
  {
   "cell_type": "markdown",
   "id": "6538ff0e-c287-4c3c-9f24-8ce12fb9b515",
   "metadata": {},
   "source": [
    ":::{note} Tutorial 5. **Layout**\n",
    ":icon: false\n",
    "\n",
    "#### Sizing and Responsiveness\n",
    "\n",
    "Panel builds on Bokeh which has a CSS based layout engine, while you can fall back to using explicit CSS to lay out components, it has a higher-level abstraction that makes it possible to build both fixed size and responsive layouts easily.\n",
    "\n",
    "The main sizing related options that you should know are:\n",
    "\n",
    "`width`/`height`\n",
    ": Allows setting a fixed width or height\n",
    "\n",
    "`sizing_mode`\n",
    ": Allows toggling between fixed sizing and responsive sizing along vertical and/or horizontal dimensions\n",
    "\n",
    "`min_width`/`min_height`\n",
    ": Allows setting a minimum width or height, if responsive sizing is set along the corresponding dimension.\n",
    "\n",
    "`max_width`/`max_height`\n",
    ": Allows setting a maximum width or height, if responsive sizing is set along the corresponding dimension. \n",
    ":::"
   ]
  },
  {
   "cell_type": "code",
   "execution_count": null,
   "id": "bc7902f4-af5e-42b9-a203-dcfe108839a4",
   "metadata": {},
   "outputs": [],
   "source": [
    "import panel as pn\n",
    "pn.extension('tabulator')"
   ]
  },
  {
   "cell_type": "markdown",
   "id": "6d2ada27-da1e-4ba2-920e-ec05d4c2df56",
   "metadata": {},
   "source": [
    "## Inherent and absolute sizing \n",
    "\n",
    "Many components you might want to display have an inherent size, e.g. take some text, based on the font-size and the content of the text it will take up a certain amount of space. When you render it it will fill the available space and wrap if necessary:"
   ]
  },
  {
   "cell_type": "code",
   "execution_count": null,
   "id": "a2225277-06f8-4831-89c2-590e401ba0d5",
   "metadata": {},
   "outputs": [],
   "source": [
    "lorem_ipsum = \"Lorem ipsum dolor sit amet, consectetur adipiscing elit, sed do eiusmod tempor incididunt ut labore et dolore magna aliqua. Ut enim ad minim veniam, quis nostrud exercitation ullamco laboris nisi ut aliquip ex ea commodo consequat. Duis aute irure dolor in reprehenderit in voluptate velit esse cillum dolore eu fugiat nulla pariatur. Excepteur sint occaecat cupidatat non proident, sunt in culpa qui officia deserunt mollit anim id est laborum.\"\n",
    "\n",
    "pn.panel(lorem_ipsum)"
   ]
  },
  {
   "cell_type": "markdown",
   "id": "21e555ae-d65b-4bcc-a843-3154efc8210a",
   "metadata": {},
   "source": [
    "By restricting the width, we can force it to rewrap and it will have a different inherent height."
   ]
  },
  {
   "cell_type": "code",
   "execution_count": null,
   "id": "2dc9619d-4450-48a1-be67-82ec6d7f807b",
   "metadata": {},
   "outputs": [],
   "source": [
    "pn.panel(lorem_ipsum, width=300)"
   ]
  },
  {
   "cell_type": "markdown",
   "id": "da400fd5-b59f-4a3c-aabd-cdaac4944248",
   "metadata": {},
   "source": [
    "Explicitly setting both width and height will force the resulting display to scroll to ensure that it is not cut off:"
   ]
  },
  {
   "cell_type": "code",
   "execution_count": null,
   "id": "eaa0397f-50eb-43b7-85e0-31cc6a8c2f2b",
   "metadata": {},
   "outputs": [],
   "source": [
    "pn.panel(lorem_ipsum, width=300, height=100)"
   ]
  },
  {
   "cell_type": "markdown",
   "id": "3ab0c55a-7f32-4e59-80ce-5e9daa8b6382",
   "metadata": {},
   "source": [
    "## Responsive sizing\n",
    "\n",
    "The `sizing_mode` option can be used to toggle responsiveness in the width or height dimension or both. To see the effect of this we will create a fixed size container that we place the components into:"
   ]
  },
  {
   "cell_type": "code",
   "execution_count": null,
   "id": "39645900-c586-4ae4-a48b-bb69b7eb6cc9",
   "metadata": {},
   "outputs": [],
   "source": [
    "width_responsive = pn.Spacer(styles={'background': 'red'}, sizing_mode='stretch_width', height=200)\n",
    "\n",
    "pn.Column(width_responsive, width=400, height=400, styles={'border': '1px solid black'})"
   ]
  },
  {
   "cell_type": "code",
   "execution_count": null,
   "id": "6f30979e-7644-4be9-9c3e-2682d60a8806",
   "metadata": {},
   "outputs": [],
   "source": [
    "height_responsive = pn.Spacer(styles={'background': 'green'}, sizing_mode='stretch_height', width=200)\n",
    "\n",
    "pn.Column(height_responsive, width=400, height=400, styles={'border': '1px solid black'})"
   ]
  },
  {
   "cell_type": "code",
   "execution_count": null,
   "id": "955e92ae-873b-459c-a135-075c17d71910",
   "metadata": {},
   "outputs": [],
   "source": [
    "both_responsive = pn.Spacer(styles={'background': 'blue'}, sizing_mode='stretch_both')\n",
    "\n",
    "pn.Column(both_responsive, width=400, height=400, styles={'border': '1px solid black'})"
   ]
  },
  {
   "cell_type": "markdown",
   "id": "6d747e52-0e60-4348-b85e-fcbd920c097c",
   "metadata": {},
   "source": [
    "### Exercise\n",
    "\n",
    "Arrange the Markdown pane and Bokeh figure such that they fully fill the available space but also ensure that the text never shrinks below 200 pixels and never grows above 500 pixels in width."
   ]
  },
  {
   "cell_type": "code",
   "execution_count": null,
   "id": "fcbc38a5-9f90-48d5-839a-ba5cbe08d08f",
   "metadata": {},
   "outputs": [],
   "source": [
    "import numpy as np\n",
    "\n",
    "from bokeh.plotting import figure\n",
    "\n",
    "md = pn.pane.Markdown(lorem_ipsum, ) # <-- Add options here\n",
    "fig = figure() # <-- and here\n",
    "\n",
    "xs = np.linspace(0, 10)\n",
    "ys = np.sin(xs)\n",
    "\n",
    "fig.line(xs, ys)\n",
    "\n",
    "pn.Row(fig, md, height=500, sizing_mode='stretch_width')"
   ]
  },
  {
   "cell_type": "markdown",
   "id": "a89c9818-29ac-45b8-b346-a4be9b30c7ff",
   "metadata": {},
   "source": [
    "## True Responsive Layouts\n",
    "\n",
    "So far when we have talked about responsive layouts we have primarily focused on simple width/height responsiveness of individual components, i.e. whether they will grow and shrink to fill the available space. For a truly responsive experience however we will need responsive layouts that will reflow the content depending on the size of the screen, browser window or the container they are placed inside of, much like how text wraps when there is insufficient width to accommodate it:\n",
    "\n",
    "Panel offers one such component out of the box, the `FlexBox` layout. "
   ]
  },
  {
   "cell_type": "code",
   "execution_count": null,
   "id": "10ef9263-2ef0-4d38-a4fd-8e612629a581",
   "metadata": {},
   "outputs": [],
   "source": [
    "import random\n",
    "\n",
    "pn.FlexBox(*(pn.Spacer(height=100, width=random.randint(1, 4)*100, styles={'background': 'indianred'}, margin=5) for _ in range(10)))"
   ]
  },
  {
   "cell_type": "markdown",
   "id": "6eb39414-6bf4-4bf5-ae68-9bab433d4018",
   "metadata": {},
   "source": [
    "`FlexBox` is based on [CSS Flexbox](https://css-tricks.com/snippets/css/a-guide-to-flexbox/) and supports many of the same options, such as setting `flex_direction`, `flex-wrap`, `align_items` and `align_content`."
   ]
  },
  {
   "cell_type": "code",
   "execution_count": null,
   "id": "c36a6eb8-a852-4816-8dc3-14547286809d",
   "metadata": {},
   "outputs": [],
   "source": [
    "pn.FlexBox(*(pn.Spacer(height=random.randint(1, 2)*100, width=random.randint(1, 4)*100, styles={'background': 'indianred'}, margin=5) for _ in range(10)),\n",
    "           align_items='center')"
   ]
  },
  {
   "cell_type": "markdown",
   "id": "1d13c261-7c95-479a-b259-629373ac30c2",
   "metadata": {},
   "source": [
    "### Distributing proportions"
   ]
  },
  {
   "cell_type": "markdown",
   "id": "c04441a3-59b8-4818-b8b6-296ad4c74841",
   "metadata": {},
   "source": [
    "To achieve more complex layouts, i.e. specific proportions between different components we can use the `flex` property on the children of our `FlexBox`, e.g. here we declare that the green Spacer should be three times as wide as the red and blue components."
   ]
  },
  {
   "cell_type": "code",
   "execution_count": null,
   "id": "27cbf8e4-844b-406e-b134-fe8aa914bdbd",
   "metadata": {},
   "outputs": [],
   "source": [
    "red = pn.Spacer(height=200, styles={'background': 'red', 'flex': '1 1 auto'})\n",
    "green = pn.Spacer(height=200, styles={'background': 'green', 'flex': '3 1 auto'})\n",
    "blue = pn.Spacer(height=200, styles={'background': 'blue', 'flex': '1 1 auto'})\n",
    "\n",
    "pn.FlexBox(red, green, blue)"
   ]
  },
  {
   "cell_type": "markdown",
   "id": "30c4c2ac-9f1a-43ac-a7c5-b317168ea4fb",
   "metadata": {},
   "source": [
    "To learn more about this read [this guide on controlling ratios of flex items](https://developer.mozilla.org/en-US/docs/Web/CSS/CSS_flexible_box_layout/Controlling_ratios_of_flex_items_along_the_main_axis)."
   ]
  },
  {
   "cell_type": "markdown",
   "id": "532f75f5-3a18-4629-b584-fef1e50ca1e0",
   "metadata": {},
   "source": [
    "#### Exercise\n",
    "\n",
    "Using only the `flex` property inside `styles` of the two plots, distribute the two plots and the text such that the plots are both 3 times wider than the text, then center the text vertically."
   ]
  },
  {
   "cell_type": "code",
   "execution_count": null,
   "id": "87d5206a-a36d-45ab-8af8-06487e9ddcd1",
   "metadata": {},
   "outputs": [],
   "source": [
    "xs = np.linspace(0, 10)\n",
    "\n",
    "sin_fig = figure(height=400, width=None, styles={'flex': '3 1 auto'})\n",
    "sin_fig.line(xs, np.sin(xs))\n",
    "\n",
    "cos_fig = figure(height=400, width=None, styles={'flex': '3 1 auto'})\n",
    "cos_fig.line(xs, np.cos(xs))\n",
    "\n",
    "text = pn.pane.Markdown(lorem_ipsum, styles={'flex': '1 1 0'})\n",
    "\n",
    "pn.FlexBox(sin_fig, text, cos_fig)"
   ]
  },
  {
   "cell_type": "markdown",
   "id": "8e9904ff-5281-4f5b-a4ed-e145580c6456",
   "metadata": {},
   "source": [
    "### Media queries\n",
    "\n",
    "To achieve layouts depending on the overall screen/browser width, e.g. to have a different layout depending on whether we are working on a desktop or a mobile we can use media queries. Media queries allow us to apply different rules depending on a `min-width` or `max-width`, e.g. the example below will force the flexbow into a column layout when the viewport is below a size of 1200px:"
   ]
  },
  {
   "cell_type": "code",
   "execution_count": null,
   "id": "5697c32b-0b6a-4ce3-8583-397e9c1cb317",
   "metadata": {},
   "outputs": [],
   "source": [
    "red = pn.Spacer(height=200, width=400, styles={'background': 'red'})\n",
    "green = pn.Spacer(height=200, width=400, styles={'background': 'green'})\n",
    "blue = pn.Spacer(height=200, width=400, styles={'background': 'blue'})\n",
    "\n",
    "media_query = \"\"\"\n",
    "@media screen and (max-width: 1200px) {\n",
    "  div[id^=\"flexbox\"] {\n",
    "    flex-flow: column !important;\n",
    "  }\n",
    "}\n",
    "\"\"\"\n",
    "\n",
    "pn.FlexBox(red, green, blue, stylesheets=[media_query])"
   ]
  },
  {
   "cell_type": "markdown",
   "id": "e9862545-5710-49ed-b686-43552908885a",
   "metadata": {},
   "source": [
    "### Exercise\n",
    "\n",
    "This exercise is a bit more free-form, the aim will be simply to generate a layout that is both responsive and visually pleasing. We'll start by declaring the data pipeline that will feed our components:"
   ]
  },
  {
   "cell_type": "code",
   "execution_count": null,
   "id": "cb96e02a-3697-476d-8730-c152df34011d",
   "metadata": {},
   "outputs": [],
   "source": [
    "import holoviews as hv\n",
    "import hvplot.pandas\n",
    "import pandas as pd\n",
    "\n",
    "data_url = 'https://datasets.holoviz.org/windturbines/v1/windturbines.parq'\n",
    "\n",
    "df = pn.rx(pd.read_parquet(data_url))\n",
    "\n",
    "CARD_STYLE = \"\"\"\n",
    ":host {\n",
    "  box-shadow: rgba(50, 50, 93, 0.25) 0px 6px 12px -2px, rgba(0, 0, 0, 0.3) 0px 3px 7px -3px;\n",
    "  padding: 5px 10px;\n",
    "}\"\"\"\n",
    "\n",
    "manufacturers = pn.widgets.MultiChoice(options=df.t_manu.unique().rx.pipe(list), name='Manufacturer')\n",
    "year = pn.widgets.IntRangeSlider(start=df.p_year.min().rx.pipe(int), end=df.p_year.max().rx.pipe(int), name='Year')\n",
    "columns = ['p_name', 't_state', 't_county', 'p_year', 't_manu', 'p_cap']\n",
    "\n",
    "filtered = df[columns][df.t_manu.isin(manufacturers.rx.where(manufacturers, df.t_manu.unique())) & df.p_year.between(*year.rx())]"
   ]
  },
  {
   "cell_type": "markdown",
   "id": "f201346f-b8c4-45ea-882c-3367a7ff651d",
   "metadata": {},
   "source": [
    "Now we'll declare all the individual components and put them in a column. Use everything you've learned to find a responsive and aesthetically pleasing layout:"
   ]
  },
  {
   "cell_type": "code",
   "execution_count": null,
   "id": "a90ec6ea-a071-4468-b36e-06e88f14ecaa",
   "metadata": {},
   "outputs": [],
   "source": [
    "count = pn.indicators.Number(name='Turbine Count', value=filtered.rx.len(), format='{value:,d} TWh', stylesheets=[CARD_STYLE])\n",
    "total_cap = pn.indicators.Number(name='Total Capacity', value=filtered.p_cap.mean(), format='{value:.2f} TWh', stylesheets=[CARD_STYLE])\n",
    "modal_year = pn.indicators.Number(name='Modal Year', value=filtered.p_year.mode().iloc[0], stylesheets=[CARD_STYLE])\n",
    "\n",
    "widgets = pn.Column(manufacturers, year, stylesheets=[CARD_STYLE], margin=10)\n",
    "table = pn.widgets.Tabulator(filtered, stylesheets=[CARD_STYLE], max_width=500)\n",
    "\n",
    "year_hist = filtered.hvplot.hist(y='p_year', responsive=True, max_width=300, height=312)\n",
    "cap_hist = filtered.hvplot.hist(y='p_cap', responsive=True, max_width=300, height=312)\n",
    "\n",
    "plots = pn.Column(hv.DynamicMap(cap_hist), hv.DynamicMap(year_hist), stylesheets=[CARD_STYLE], max_width=400, margin=5)\n",
    "\n",
    "pn.Column(count, total_cap, modal_year, widgets, table, plots)"
   ]
  }
 ],
 "metadata": {
  "language_info": {
   "name": "python",
   "pygments_lexer": "ipython3"
  }
 },
 "nbformat": 4,
 "nbformat_minor": 5
}
