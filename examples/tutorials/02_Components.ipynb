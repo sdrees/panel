{
 "cells": [
  {
   "cell_type": "markdown",
   "id": "3ebcc693-d4da-4b7c-9d81-8784ad2866c5",
   "metadata": {
    "tags": []
   },
   "source": [
    ":::{note} Tutorial 2. **Core Components**\n",
    ":icon: false\n",
    "\n",
    "#### An Overview of the core objects in Panel\n",
    "\n",
    "Panel is a library that provides a lot of object types and while building an app, even a simple one, you will create and interact with many of them. Compare this for instance to the Pandas library, with which you'll normally interact with just a few object types (e.g. `Series`, `DataFrame`). It is important for you to understand the differences between the objects Panel offers and how you can use them.\n",
    "\n",
    ":::"
   ]
  },
  {
   "cell_type": "code",
   "execution_count": null,
   "id": "ff545870-9469-43ef-acd2-8b302504a2b8",
   "metadata": {
    "tags": []
   },
   "outputs": [],
   "source": [
    "import panel as pn\n",
    "\n",
    "pn.extension(notifications=True)"
   ]
  },
  {
   "cell_type": "markdown",
   "id": "bd8ff592-cbc9-4663-a922-29cbed823819",
   "metadata": {},
   "source": [
    "The main objects that Panel provides, and that we are going to call *components* hereafter, short for *visual components*, include:\n",
    "\n",
    "- *Widgets*: widgets are components, usually quite small even if there are exceptions, that allow your users to interact with your app. Most importantly, they allow you to get user input! Examples include a text input, a checkbox, a slider, etc.\n",
    "- *Panes*: panes are wrappers around some data that allow you to render that data, possibly customizing the rendering. Panel is known to support many date types, especially from the PyData ecosystem. You can indeed display a Pandas DataFrame, a Plotly plot, a Matplotlib plot, an Altair plot, all together on the same app! You can of course display HTML text or just raw text. Panes aren't limited to rendering data statically, they can allow for some user interactions and state syncing, like for instance the `Audio` or `Vega` panes.\n",
    "- *Indicators*: indicators are useful to display some static state, they are indeed implemented as widgets that you can only control programmatically. You'll find for instance a progress indicator or a tooltip.\n",
    "- *Layouts*: after having built various widgets, panes and indicators, it's time to display them together. Panel provides a dozen of layout components, including of course the most common `Row` and `Column` layouts.\n",
    "- *Templates*: templates are components that render multiple Panel objects in an HTML document. The basic template, which you get when you serve an app without setting any template, is basically a blank canvas. Instead when you use one of the built-in templates you can easily improve the design and branding of your app, which will get for free a header, a sidebar, etc.\n",
    "- *Notifications*: notifications are components that display so called \"toasts\", designed to mimic the push notifications that have been popularized by mobile and desktop operating systems."
   ]
  },
  {
   "cell_type": "markdown",
   "id": "5b1b017f-32f5-4e24-8dba-3c5f04f144ce",
   "metadata": {},
   "source": [
    "All the Panel components can be visualized on the [Component Gallery](https://panel.holoviz.org/reference/index.html)."
   ]
  },
  {
   "cell_type": "markdown",
   "id": "2703cc07-65dc-4233-a79d-dd727b961c48",
   "metadata": {},
   "source": [
    ":::{exercise}\n",
    "\n",
    "Visit the *Component Gallery* and spend a few minutes exploring the components it exposes. Spoiler alert, working on a Panel app you will spend a lot of time on this page looking for the right components and learning how they work!\n",
    ":::"
   ]
  },
  {
   "cell_type": "markdown",
   "id": "1a578280-dbdb-4406-9c45-b9f6f2a77708",
   "metadata": {},
   "source": [
    ":::{tip}\n",
    "\n",
    "Components usually have in their docstring a link to their documentation page, use `<component>?` in a notebook or your IDE inspection capabilities to access the link.\n",
    ":::"
   ]
  },
  {
   "cell_type": "markdown",
   "id": "03d49f3e-b1b6-443d-8c0a-0bf8799d2196",
   "metadata": {},
   "source": [
    "## Parameterized components\n",
    "\n",
    "All components in Panel are built on the [Param](https://param.holoviz.org/) library. Each component declares a set of *Parameters* that control the behavior and output of the component. The basic idea however is that the *Parameter* values can be controlled both at the class-level:"
   ]
  },
  {
   "cell_type": "code",
   "execution_count": null,
   "id": "22c43f25-f361-4cc8-956d-6eb8e3009e93",
   "metadata": {
    "tags": []
   },
   "outputs": [],
   "source": [
    "pn.widgets.IntRangeSlider.width = 350"
   ]
  },
  {
   "cell_type": "markdown",
   "id": "b24df941-1fdc-47c2-86d7-f7c9cdddc94c",
   "metadata": {},
   "source": [
    "or on each instance:"
   ]
  },
  {
   "cell_type": "code",
   "execution_count": null,
   "id": "50a25e56-a7db-49d1-ad31-0f7616ebc266",
   "metadata": {
    "tags": []
   },
   "outputs": [],
   "source": [
    "pn.widgets.IntRangeSlider(width=100)"
   ]
  },
  {
   "cell_type": "markdown",
   "id": "c416d33c-a97a-499a-861b-a00c1b0b90da",
   "metadata": {
    "tags": []
   },
   "source": [
    "## State syncing"
   ]
  },
  {
   "cell_type": "markdown",
   "id": "17c7483a-ca57-43f5-b359-938febaca903",
   "metadata": {},
   "source": [
    "Be it in a notebook, in a served app, or in a Pyodide/PyScript app, Panel components sync their state between all views of the object. To better understand what that means, we create a `TextInput` widget and display it two times. Run the two following cells to render two views of the same widget."
   ]
  },
  {
   "cell_type": "code",
   "execution_count": null,
   "id": "f5cbb9ae-39b0-46ba-9954-8fa2f390e1be",
   "metadata": {
    "tags": []
   },
   "outputs": [],
   "source": [
    "w_text = pn.widgets.TextInput()\n",
    "w_text"
   ]
  },
  {
   "cell_type": "code",
   "execution_count": null,
   "id": "e1a4610c-45a8-4d39-8376-058394b593b3",
   "metadata": {
    "tags": []
   },
   "outputs": [],
   "source": [
    "w_text"
   ]
  },
  {
   "cell_type": "markdown",
   "id": "821002bd-5d72-4ece-92fd-3f61d0de808f",
   "metadata": {},
   "source": [
    "This widget has many *Parameters* than can be set and will be synced, i.e. a programmatic update of their value will be reflected in the user interface, affecting its views. Run the two cells below and observe the two views above being updated."
   ]
  },
  {
   "cell_type": "code",
   "execution_count": null,
   "id": "44da09a4-b50b-4f59-800f-643649391006",
   "metadata": {
    "tags": []
   },
   "outputs": [],
   "source": [
    "w_text.width = 100"
   ]
  },
  {
   "cell_type": "code",
   "execution_count": null,
   "id": "7c936fec-79bd-4b78-8a20-518b5d8f1c70",
   "metadata": {
    "tags": []
   },
   "outputs": [],
   "source": [
    "w_text.value = 'new text'"
   ]
  },
  {
   "cell_type": "markdown",
   "id": "b1598948-a7a0-4d45-aca9-7d98c9aef9ef",
   "metadata": {},
   "source": [
    "What you just experimented is one-way syncing from your code to the user interface, i.e. from your running Python interpreter to your browser tab."
   ]
  },
  {
   "cell_type": "markdown",
   "id": "f3632ab5-1797-4e8a-8524-4b1917000db8",
   "metadata": {},
   "source": [
    "This can also work the other way around, i.e. when you modify a component from the user interface directly its Python state gets updated accordingly. Try this out by typing some text in one of the widgets above and then execute the cell below. You will see that what you typed is now reflected in the widget `value`. In this case we say that the `value` *Parameter* is bi-directionally synced (or linked)."
   ]
  },
  {
   "cell_type": "code",
   "execution_count": null,
   "id": "89865fc6-f9e0-4d05-8b63-74b9e91f6875",
   "metadata": {
    "tags": []
   },
   "outputs": [],
   "source": [
    "w_text.value"
   ]
  },
  {
   "cell_type": "markdown",
   "id": "f5f3f310-937b-4d56-b6d0-5c56ee3fb634",
   "metadata": {
    "tags": []
   },
   "source": [
    "## Core components"
   ]
  },
  {
   "cell_type": "markdown",
   "id": "c35f162d-1178-4555-a756-d04775d200d8",
   "metadata": {
    "tags": []
   },
   "source": [
    "### Widgets"
   ]
  },
  {
   "cell_type": "markdown",
   "id": "14390be9-4bd6-414b-afd4-ddf49002aa39",
   "metadata": {},
   "source": [
    "More than 50 different widgets are available in the `pn.widgets` subpackage, varying from a simple text input to a more complex chat bot. The widget classes use a consistent API that allows treating broad categories of widgets as interchangeable. For instance, to select a value from a list of options, you can interchangeably use a `Select` widget, a `RadioButtonGroup`, or a range of other equivalent widgets."
   ]
  },
  {
   "cell_type": "markdown",
   "id": "463e879e-4c66-497b-a7d4-1e31e7f9a111",
   "metadata": {},
   "source": [
    "#### `value`"
   ]
  },
  {
   "cell_type": "markdown",
   "id": "d57e2ff1-db0d-47be-a07e-bf38ed8db35e",
   "metadata": {},
   "source": [
    "Widgets **all** have a `value` *Parameter* that holds the widget state and that is bi-directionally synced. What is accepted for `value` is often a constrained *Parameter*."
   ]
  },
  {
   "cell_type": "markdown",
   "id": "8a7792c2-c20e-4107-b1ac-765fab7d9486",
   "metadata": {
    "tags": []
   },
   "source": [
    ":::{exercise}\n",
    "\n",
    "Try setting the `value` of a `TextInput` widget with an object whose type is not `str`. Then run `widget.param` to see exactly what type is accepted for the widget `value`.\n",
    ":::"
   ]
  },
  {
   "cell_type": "markdown",
   "id": "42338c1b-0317-4013-b2c7-86b2b33cc93a",
   "metadata": {},
   "source": [
    ":::{note}\n",
    "\n",
    "One gotcha that doesn't only apply to the `value` *Parameter* but that you are more likely to encounter with this *Parameter* than others is when it is referencing a mutable data structure that you mutate inplace. Take for example a `MultiSelect` widget whose `value` is a `list`. If you programmatically update that list directly, with for example `append` or `extend`, Panel will not be able to detect that change. In which case you need to explicitly trigger updates with `w_multiselect.param.trigger('value')` that will run all the same underlying machinery as if you were setting the *Parameter* to a new value. A notable widget that holds a multable datastructure is the `Tabulator` widget whose `value` is a Pandas DataFrame that can be updated inplace with e.g. `df.loc[0, 'A'] = new_value`, its `patch` method allows to both update the data and the user interface.\n",
    ":::"
   ]
  },
  {
   "cell_type": "code",
   "execution_count": null,
   "id": "867e14b3-9bf4-40e3-a506-726f6c6cd74e",
   "metadata": {
    "tags": []
   },
   "outputs": [],
   "source": [
    "w_multi = pn.widgets.MultiSelect(options=list('abc'))\n",
    "w_multi"
   ]
  },
  {
   "cell_type": "code",
   "execution_count": null,
   "id": "2ae0e3bf-e89b-4699-9ddf-9c37d5748172",
   "metadata": {
    "tags": []
   },
   "outputs": [],
   "source": [
    "# Setting `value` updates the user interface as expected.\n",
    "w_multi.value = ['a', 'b']"
   ]
  },
  {
   "cell_type": "code",
   "execution_count": null,
   "id": "126714c7-99a7-4f96-a7d4-2670b256e6eb",
   "metadata": {
    "tags": []
   },
   "outputs": [],
   "source": [
    "# However, updating `value` in place doesn't.\n",
    "w_multi.value.append('c')"
   ]
  },
  {
   "cell_type": "code",
   "execution_count": null,
   "id": "cb2cc7c2-8665-45cc-a937-9e3ccd8fd58d",
   "metadata": {
    "tags": []
   },
   "outputs": [],
   "source": [
    "# Trigger updates to also select 'c' in the user interface\n",
    "w_multi.param.trigger('value')"
   ]
  },
  {
   "cell_type": "markdown",
   "id": "7521e3e0-1a21-4efd-9a8b-1137f915af4f",
   "metadata": {
    "tags": []
   },
   "source": [
    "#### Throttling"
   ]
  },
  {
   "cell_type": "markdown",
   "id": "9211bcd3-71bb-45c0-931c-4397f14526eb",
   "metadata": {},
   "source": [
    "There are two types of widgets that can be updated very frequently in the user interface: sliders (e.g. `IntSlider`, `FloatSlider`, `RangerSlider`) and text inputs (e.g. `TextInput`, `AutocompleteInput`). In some cases you may want to react on every state update of these widgets, in some others you only want to react when the user has finished interacting with the widget. For instance, you certainly do not want to run a long simulation on every step of a slider being dragged by your user, but you may want a plot to be updated live when your user moves another slider. Panel provides additional *Parameters* to cover those cases:\n",
    "\n",
    "- sliders: the `value` *Parameter* is updated continuously when the slider is being dragged and the `value_throttled` *Parameter* is updated only when the handle on the slider is released (less updates)\n",
    "- text inputs: the `value` *Parameter* is only updated when the *Enter* key is pressed or the widget loses focus and the `value_input` *Parameter* is updated on every key press (more updates)."
   ]
  },
  {
   "cell_type": "code",
   "execution_count": null,
   "id": "09ab3e56-4ddf-4b0c-8911-57407dc96d2d",
   "metadata": {},
   "outputs": [],
   "source": [
    "pn.config.throttled = True"
   ]
  },
  {
   "cell_type": "code",
   "execution_count": null,
   "id": "3064f834-5169-409f-8d3d-2ee0fa187d76",
   "metadata": {},
   "outputs": [],
   "source": [
    "slider = pn.widgets.IntSlider(start=0, end=10)"
   ]
  },
  {
   "cell_type": "code",
   "execution_count": null,
   "id": "4fbdb08b-ba5c-4643-b0c9-80cc9c17a3cb",
   "metadata": {},
   "outputs": [],
   "source": [
    "text = pn.widgets.TextInput()"
   ]
  },
  {
   "cell_type": "code",
   "execution_count": null,
   "id": "4f5a8d26-a78a-4a30-9ad4-c8868bd08e5e",
   "metadata": {},
   "outputs": [],
   "source": [
    "text.value_input"
   ]
  },
  {
   "cell_type": "code",
   "execution_count": null,
   "id": "da6ee1ad-3544-420b-9c07-cbd9b2c77e11",
   "metadata": {},
   "outputs": [],
   "source": [
    "slider.param.value_throttled"
   ]
  },
  {
   "cell_type": "markdown",
   "id": "ba0cf9d8-46d9-45d8-bb94-238b612ab639",
   "metadata": {},
   "source": [
    "#### `name`"
   ]
  },
  {
   "cell_type": "markdown",
   "id": "6edbec9d-b1e2-467e-8db8-d62d9d97e058",
   "metadata": {},
   "source": [
    "Most widgets can have a caption that is set with the `name` *Parameter*."
   ]
  },
  {
   "cell_type": "code",
   "execution_count": null,
   "id": "2d57de92-1f10-4c46-8ddc-c08efea92fe3",
   "metadata": {
    "tags": []
   },
   "outputs": [],
   "source": [
    "pn.widgets.Button(name='Click me!')"
   ]
  },
  {
   "cell_type": "code",
   "execution_count": null,
   "id": "887d3626-6df5-4c27-a89a-12e9d044261b",
   "metadata": {
    "tags": []
   },
   "outputs": [],
   "source": [
    "pn.widgets.TextInput(name='Age:')"
   ]
  },
  {
   "cell_type": "markdown",
   "id": "e05f0c3b-8927-4134-81c0-34d8f73d39cd",
   "metadata": {},
   "source": [
    "#### `description`"
   ]
  },
  {
   "cell_type": "markdown",
   "id": "ff7fee56-beef-49e4-b7b1-11d4a13cc707",
   "metadata": {},
   "source": [
    "The `description` *Parameter* was added in Panel 1.0 to some widgets. It adds a tooltip icon next to the widget label, it supports rendering HTML content."
   ]
  },
  {
   "cell_type": "code",
   "execution_count": null,
   "id": "7112fd26-a5be-4dd9-9341-561dec84b2bf",
   "metadata": {
    "tags": []
   },
   "outputs": [],
   "source": [
    "pn.widgets.Select(\n",
    "    name='Mode', description='<ul><li>Mode 1: ...</li><li>Mode 2: ...</li></ul>',\n",
    "    options=[1, 2]\n",
    ")"
   ]
  },
  {
   "cell_type": "markdown",
   "id": "ff7ae69e-b513-45cb-8d14-a293ee7325a9",
   "metadata": {},
   "source": [
    "### Panes"
   ]
  },
  {
   "cell_type": "markdown",
   "id": "88a687af-7571-4951-9ef4-91dbd9b05c18",
   "metadata": {},
   "source": [
    "Pane objects makes it possible to display a wide range of plots and other media on a page, including plots (e.g. Matplotlib, Bokeh, Vega/Altair, HoloViews, Plotly, Vizzu), images (e.g. PNGs, SVGs, GIFs, JPEGs), various markup languages (e.g. Markdown, HTML, LaTeX) and DataFrames. Panes are available under the `pn.pane` subpackage."
   ]
  },
  {
   "cell_type": "markdown",
   "id": "ed9dd077-0ed2-4677-951b-aa9282b64de5",
   "metadata": {},
   "source": [
    "#### `pn.panel()`"
   ]
  },
  {
   "cell_type": "markdown",
   "id": "5c7e4d37-c0e8-4478-96f3-5df679d54fbd",
   "metadata": {},
   "source": [
    "Panel provides `pn.panel` as a convenient helper function that will convert objects into a Pane. The utility resolves the appropriate representation for an object by checking all Pane object types available and then ranking them by priority. When passing a string (for instance) there are many representations, but the PNG pane takes precedence if the string is a valid URL or local file path ending in \".png\"."
   ]
  },
  {
   "cell_type": "code",
   "execution_count": null,
   "id": "3e3b2132-2975-4574-a2a0-3226a691aba5",
   "metadata": {
    "tags": []
   },
   "outputs": [],
   "source": [
    "png = pn.panel('https://upload.wikimedia.org/wikipedia/commons/4/47/PNG_transparency_demonstration_1.png', width=200)\n",
    "png"
   ]
  },
  {
   "cell_type": "code",
   "execution_count": null,
   "id": "a1fd8057-bac9-4022-a0be-f65733c45398",
   "metadata": {},
   "outputs": [],
   "source": [
    "row = pn.Row('# Title')"
   ]
  },
  {
   "cell_type": "markdown",
   "id": "a35cc218-a092-483e-a694-fe1b4c5bab3a",
   "metadata": {
    "tags": []
   },
   "source": [
    "We can check that `PNG` is indeed the Pane type inferred by the utility."
   ]
  },
  {
   "cell_type": "code",
   "execution_count": null,
   "id": "101a8ba0-41d0-488d-b199-77b2655b868e",
   "metadata": {
    "tags": []
   },
   "outputs": [],
   "source": [
    "print(png)"
   ]
  },
  {
   "cell_type": "markdown",
   "id": "6d969412-b06f-48dc-8288-8a2a278913bb",
   "metadata": {},
   "source": [
    "#### `object`"
   ]
  },
  {
   "cell_type": "markdown",
   "id": "be5a368f-b04b-4f4f-a978-1c2dd60dd366",
   "metadata": {},
   "source": [
    "Panes **all** store the object they are wrapping on the `object` *Parameter*. Existing views of a pane will update when `object` is set to a new value. Let's verify that with the `Markdown` pane, run the next cells to display two views of the same pane and update both of them by setting `object` with a new string."
   ]
  },
  {
   "cell_type": "code",
   "execution_count": null,
   "id": "74633f9b-d198-4cf6-931a-7c6f92f7bf2a",
   "metadata": {
    "tags": []
   },
   "outputs": [],
   "source": [
    "p_md = pn.pane.Markdown('# Title')\n",
    "p_md"
   ]
  },
  {
   "cell_type": "code",
   "execution_count": null,
   "id": "7d0b879d-fb78-4abf-ae7f-9ea510f0631e",
   "metadata": {
    "tags": []
   },
   "outputs": [],
   "source": [
    "p_md.object"
   ]
  },
  {
   "cell_type": "code",
   "execution_count": null,
   "id": "87dfe392-aae6-4e3f-b83f-293f89914343",
   "metadata": {
    "tags": []
   },
   "outputs": [],
   "source": [
    "p_md.object = '# New title'"
   ]
  },
  {
   "cell_type": "markdown",
   "id": "d905c68e-ed6a-48ef-8223-144a64f6bd60",
   "metadata": {
    "tags": []
   },
   "source": [
    "### Indicators"
   ]
  },
  {
   "cell_type": "markdown",
   "id": "e204d120-04cd-47ef-9fb0-eac1da097f2f",
   "metadata": {},
   "source": [
    "Indicators are useful to show transient state (e.g. progress bar), a numerical indicator or a text indicator (e.g. tooltip). They sit in between widgets and panes, they have a `value` *Parameter* that holds their state but cannot be modified from the user interface."
   ]
  },
  {
   "cell_type": "code",
   "execution_count": null,
   "id": "5ab92e42-657b-48fe-b043-ab9897347e12",
   "metadata": {
    "tags": []
   },
   "outputs": [],
   "source": [
    "i_number = pn.indicators.Number(\n",
    "    name='Total Amount', value=3.5, format='{value}K',\n",
    "    colors=[(5, 'green'), (10, 'red')]\n",
    ")\n",
    "i_number"
   ]
  },
  {
   "cell_type": "code",
   "execution_count": null,
   "id": "186c9680-a9a9-4968-a504-0bd6aaff1de6",
   "metadata": {
    "tags": []
   },
   "outputs": [],
   "source": [
    "i_number.value = 6"
   ]
  },
  {
   "cell_type": "markdown",
   "id": "22656208-3e4a-4214-abd5-af35984d4ccd",
   "metadata": {},
   "source": [
    "Indicators work well with asynchronous generators to quickly update their state without blocking."
   ]
  },
  {
   "cell_type": "markdown",
   "id": "3cdeb86c-535b-4136-b612-2fd344ca771f",
   "metadata": {},
   "source": [
    "### Layouts"
   ]
  },
  {
   "cell_type": "markdown",
   "id": "46fff5db-7ae2-4688-bfae-5ffcfa78e5cd",
   "metadata": {},
   "source": [
    "Layouts, aka *Panels*, allow arranging other components objects into fixed-size or responsively resizing layouts, building simple apps or complex dashboards. The whole Panel library is designed to make it easy to create such objects, which is why it takes its name from them."
   ]
  },
  {
   "cell_type": "markdown",
   "id": "720d6d46-5098-4983-9ffe-a7099c93090f",
   "metadata": {},
   "source": [
    "There are four main types of Panels:\n",
    "\n",
    "- A `Row` arranges a list of components horizontally.\n",
    "- A `Column` arranges a list of components vertically.\n",
    "- A `Tabs` object lays out a list of components as selectable tabs.\n",
    "- A `GridSpec` lays out components on a grid."
   ]
  },
  {
   "cell_type": "markdown",
   "id": "c228e71b-3897-4e8e-b6dc-b0cf3ff87dc7",
   "metadata": {},
   "source": [
    "We aren't going to explore all these types of layouts, instead we are going to focus on a key difference between some of them that affects how you interact with them:\n",
    "\n",
    "- The `Row`, `Column`, `Tabs`, `GridBox`, `FlexBox`, `Accordion` and `FloatPanel` layouts have list-like semantics, which means they have many of the same methods as a simple Python `list`, making it easy to add, replace, and remove components interactively using `append`, `extend`, `clear`, `insert`, `pop`, `remove` and `__setitem__`. These methods make it possible to interactively configure and modify an arrangement of plots, making them an extremely powerful tool for building apps or dashboards.\n",
    "- The `GridSpec` and `GridStack` layout is quite different from the other layout types in that it isn’t list-like. Instead it behaves more like a 2D array that automatically expands when assigned to. This property makes it a very powerful means of declaring a dashboard layout with either a fixed size or with responsive sizing, i.e. one that will rescale with the browser window."
   ]
  },
  {
   "cell_type": "markdown",
   "id": "50005264-b8cc-414f-8e1b-6c8a161aeae5",
   "metadata": {},
   "source": [
    "All the layout objects can be initialized as empty. When initialized with some objects, or when some new objects are set, if these objects aren't Panel components the `pn.panel` helper will be called internally to convert it into a displayable representation (typically a Pane)."
   ]
  },
  {
   "cell_type": "markdown",
   "id": "1bb9bcfc-80dd-424b-98d1-40f7a84d9c41",
   "metadata": {
    "tags": []
   },
   "source": [
    "#### List-like API"
   ]
  },
  {
   "cell_type": "markdown",
   "id": "73f42da7-dfb5-4c71-ac23-613ccbdfed53",
   "metadata": {},
   "source": [
    "List-like layouts can be initialized with a variable number of objects. To start with, we will declare a `Column` and populate it with a title and a widget."
   ]
  },
  {
   "cell_type": "code",
   "execution_count": null,
   "id": "e7a44832-f3bd-45dc-b345-f92020bcbc86",
   "metadata": {
    "tags": []
   },
   "outputs": [],
   "source": [
    "column = pn.Column('# A title', pn.widgets.FloatSlider())\n",
    "column"
   ]
  },
  {
   "cell_type": "markdown",
   "id": "b30a72a4-c1cc-4a6b-b16a-bef929d6f8cc",
   "metadata": {
    "tags": []
   },
   "source": [
    "Next we add another bit of markdown."
   ]
  },
  {
   "cell_type": "code",
   "execution_count": null,
   "id": "de88cb11-8d4e-4cc0-9f7c-60d282f25fd9",
   "metadata": {
    "tags": []
   },
   "outputs": [],
   "source": [
    "column.append('* Item 1\\n* Item 2')"
   ]
  },
  {
   "cell_type": "markdown",
   "id": "dfa397af-3259-40e2-bb50-70e5534bb5e4",
   "metadata": {},
   "source": [
    "Then we add a few more widgets."
   ]
  },
  {
   "cell_type": "code",
   "execution_count": null,
   "id": "b63e44a3-24ab-4b43-8647-ecb06c0fb887",
   "metadata": {
    "tags": []
   },
   "outputs": [],
   "source": [
    "column.extend([pn.widgets.TextInput(), pn.widgets.Checkbox(name='Tick this!')])"
   ]
  },
  {
   "cell_type": "markdown",
   "id": "41ec9571-62e1-451f-82d7-a535a4f66070",
   "metadata": {},
   "source": [
    "And finally we change our mind and replace the `Checkbox` with a button."
   ]
  },
  {
   "cell_type": "code",
   "execution_count": null,
   "id": "9b8ccf82-f002-4609-b001-534f6624d9b9",
   "metadata": {
    "tags": []
   },
   "outputs": [],
   "source": [
    "column[4] = pn.widgets.Button(name='Click here')"
   ]
  },
  {
   "cell_type": "markdown",
   "id": "48d0cfcf-1451-4dfd-92fa-a3f012cd987e",
   "metadata": {
    "tags": []
   },
   "source": [
    "The ability to add, remove, and replace items using list operations opens up the possibility of building rich and responsive GUIs with the ease of manipulating a Python list! You can inspect the structure of a layout calling `print`."
   ]
  },
  {
   "cell_type": "code",
   "execution_count": null,
   "id": "be183c64-a147-4ed9-971e-d47e43be096a",
   "metadata": {
    "tags": []
   },
   "outputs": [],
   "source": [
    "print(column)"
   ]
  },
  {
   "cell_type": "markdown",
   "id": "237a0f95-a537-41d9-a09b-1448cea66ad5",
   "metadata": {},
   "source": [
    "The `Tabs` and `Accordion` layouts behave similarly, however, when adding or replacing items, it is also possible to pass a tuple providing a custom title for the tab"
   ]
  },
  {
   "cell_type": "code",
   "execution_count": null,
   "id": "a40e1ba6-8007-4003-b4a4-9518af451f09",
   "metadata": {
    "tags": []
   },
   "outputs": [],
   "source": [
    "tabs = pn.Tabs(('Text', 'Some text'))\n",
    "tabs"
   ]
  },
  {
   "cell_type": "code",
   "execution_count": null,
   "id": "486fa101-d277-4f14-a00b-f9186805d1ac",
   "metadata": {
    "tags": []
   },
   "outputs": [],
   "source": [
    "# Insert a tab with a title\n",
    "tabs.insert(0, ('Slider', pn.widgets.FloatSlider()))"
   ]
  },
  {
   "cell_type": "markdown",
   "id": "9e7e1a68-85db-42b6-8a95-a759567bcebf",
   "metadata": {},
   "source": [
    "#### Grid-like API"
   ]
  },
  {
   "cell_type": "markdown",
   "id": "9f203bc5-9001-40a7-9e70-7b0a39b798f2",
   "metadata": {},
   "source": [
    "Grid-like layouts are initialized empty and populated setting 2D assignments to specify the index or span on indices the object in the grid should occupy. Just like a Python array, the indexing is zero-based and specifies the rows first and the columns second, i.e. `gridlike[0, 1]` would assign an object to the first row and second column."
   ]
  },
  {
   "cell_type": "markdown",
   "id": "d84b9079-d132-4714-87ac-e80931341b9f",
   "metadata": {},
   "source": [
    "To demonstrate the abilities, let us declare a grid with a wide range of different objects, including `Spacers`, HoloViews objects, images, and widgets."
   ]
  },
  {
   "cell_type": "code",
   "execution_count": null,
   "id": "f0e5fd22-dcea-4f1b-85e0-341de7ce7fc4",
   "metadata": {
    "tags": []
   },
   "outputs": [],
   "source": [
    "import holoviews as hv\n",
    "\n",
    "hv.extension('bokeh')\n",
    "\n",
    "pn.extension('gridstack')"
   ]
  },
  {
   "cell_type": "code",
   "execution_count": null,
   "id": "eca64ea9-9383-4eac-82fb-4ca3f1a0fb0e",
   "metadata": {
    "tags": []
   },
   "outputs": [],
   "source": [
    "gspec = pn.GridStack(sizing_mode='stretch_width', height=500)\n",
    "gspec[0, :3] = pn.Spacer(styles=dict(background='#FF0000'))\n",
    "gspec[1:3, 0] = pn.Spacer(styles=dict(background='#0000FF'))\n",
    "gspec[1:3, 1:3] = hv.Scatter([0, 1, 0]).opts(shared_axes=False)\n",
    "gspec[3:5, 0] = hv.Curve([1, 2, 3])\n",
    "gspec[3:5, 1] = 'https://upload.wikimedia.org/wikipedia/commons/4/47/PNG_transparency_demonstration_1.png'\n",
    "gspec[4:5, 2] = pn.Column(\n",
    "    pn.widgets.FloatSlider(),\n",
    "    pn.widgets.ColorPicker(),\n",
    "    pn.widgets.Toggle(name='Toggle Me!'))\n",
    "\n",
    "gspec"
   ]
  },
  {
   "cell_type": "markdown",
   "id": "32bc08b8-18f6-4658-b777-2a2856d3817c",
   "metadata": {},
   "source": [
    "### Shared *Parameters*"
   ]
  },
  {
   "cell_type": "markdown",
   "id": "84747fad-b144-4806-9863-36e2f16bd8d4",
   "metadata": {},
   "source": [
    "Widgets, indicators, panes and layouts all share a set of *Parameters* which are going to be briefly introduced in the following sections."
   ]
  },
  {
   "cell_type": "markdown",
   "id": "f9c6db61-08c3-4316-8913-993646349331",
   "metadata": {},
   "source": [
    "#### `loading`"
   ]
  },
  {
   "cell_type": "markdown",
   "id": "50300f8c-d887-4047-ae19-8b2a63188b47",
   "metadata": {},
   "source": [
    "Loading spinners are everywhere on modern apps and for good reasons, they let your users know that your app is doing some work for them! Fortunately they are very easy to set up in Panel, just set the `loading` *Parameter* to `True` or `False` on a component to display and hide its loading spinner."
   ]
  },
  {
   "cell_type": "code",
   "execution_count": null,
   "id": "554b208a-9d26-4c18-9f37-c61f4149350a",
   "metadata": {
    "tags": []
   },
   "outputs": [],
   "source": [
    "p_md = pn.pane.Markdown('# Title', loading=True)\n",
    "p_md"
   ]
  },
  {
   "cell_type": "code",
   "execution_count": null,
   "id": "cc7f0ce0-bba4-4701-82cb-e5fb3a1fe497",
   "metadata": {},
   "outputs": [],
   "source": [
    "pn.config.loading_spinner = 'petal'\n",
    "pn.config.loading_color = 'red'"
   ]
  },
  {
   "cell_type": "code",
   "execution_count": null,
   "id": "a157dea2-caf7-46dc-8b15-7157d8db1539",
   "metadata": {
    "tags": []
   },
   "outputs": [],
   "source": [
    "p_md.loading = False"
   ]
  },
  {
   "cell_type": "markdown",
   "id": "cc98de03-1039-4b95-a146-b9f625c5caff",
   "metadata": {},
   "source": [
    "#### `visible`"
   ]
  },
  {
   "cell_type": "markdown",
   "id": "6c07c1de-ad85-4055-be33-d328ce2379af",
   "metadata": {},
   "source": [
    "Sometimes it's useful to just completely hide a component, for instance to hide some advanced options. Again that's very easy to do, just set the `visible` *Parameter* to `False` on a component you want to hide."
   ]
  },
  {
   "cell_type": "code",
   "execution_count": null,
   "id": "5ad6f95e-46f2-4f18-982b-d2ef4f479233",
   "metadata": {
    "tags": []
   },
   "outputs": [],
   "source": [
    "w_text = pn.widgets.TextInput(name='Advanced')\n",
    "w_text"
   ]
  },
  {
   "cell_type": "code",
   "execution_count": null,
   "id": "75334e2b-39ec-4d9c-bffe-8b370aae251d",
   "metadata": {
    "tags": []
   },
   "outputs": [],
   "source": [
    "w_text.visible = True"
   ]
  },
  {
   "cell_type": "markdown",
   "id": "4cfc28ad-8650-40db-9051-ae7efdc755b7",
   "metadata": {},
   "source": [
    "#### Style"
   ]
  },
  {
   "cell_type": "markdown",
   "id": "a4af4e07-1c3f-47d2-a83a-025ba50a02ed",
   "metadata": {},
   "source": [
    "A few *Parameters* allow to control the style of components, including `styles`, `stylesheets`, `css_classes` and `design`. These will be explored in more details in one of the next guides. As a teaser, the next cell is a simple example leveraging the `styles` *Parameter* only, that accepts a dictionary of CSS styles."
   ]
  },
  {
   "cell_type": "code",
   "execution_count": null,
   "id": "e3f0dd7a-d200-47a1-99bf-7ed3cdba241b",
   "metadata": {
    "tags": []
   },
   "outputs": [],
   "source": [
    "custom_style = {\n",
    "    'background': '#f9f9f9',\n",
    "    'border': '1px solid black',\n",
    "    'padding': '10px',\n",
    "    'box-shadow': '5px 5px 5px #bcbcbc'\n",
    "}\n",
    "\n",
    "pn.widgets.FloatSlider(name='Number', styles=custom_style)"
   ]
  },
  {
   "cell_type": "markdown",
   "id": "294134da-5710-4f5d-821a-ee68bebfc6a7",
   "metadata": {},
   "source": [
    "#### Size and responsivity"
   ]
  },
  {
   "cell_type": "markdown",
   "id": "4fa66463-1525-4f82-9f90-5cd5598d5f08",
   "metadata": {},
   "source": [
    "A few *Parameters* allow to control the size and responsivity of components, including `height`, `width`, `min_height`, `min_width` and `sizing_mode`. These will be explored in more details in one of the next guides."
   ]
  },
  {
   "cell_type": "markdown",
   "id": "d6d23f50-4d81-4dcb-8616-a56ba9a30b96",
   "metadata": {},
   "source": [
    "#### `margin`"
   ]
  },
  {
   "cell_type": "markdown",
   "id": "64515185-1e98-494e-95b2-c58b2eb53300",
   "metadata": {},
   "source": [
    "The `margin` *Parameter* can be used to create space around an element defined as the number of pixels at the (top, right, bottom, and left). When you set it with a single value the margin is going to be applied to each side of the element, `margin` allows for more fine-grained distributio of the margin."
   ]
  },
  {
   "cell_type": "code",
   "execution_count": null,
   "id": "cbe2534a-4c62-4ea2-98ac-8b5600a893fd",
   "metadata": {
    "tags": []
   },
   "outputs": [],
   "source": [
    "pn.widgets.Button(name='Click', margin=(25, 0, 0, 0))"
   ]
  },
  {
   "cell_type": "markdown",
   "id": "b3650c35-231c-4da9-83b9-f139d109a245",
   "metadata": {},
   "source": [
    "#### `align`"
   ]
  },
  {
   "cell_type": "markdown",
   "id": "62e1524f-0e0c-4cb4-8aba-43b18c73445b",
   "metadata": {},
   "source": [
    "The `align` *Parameter* controls how components align vertically and horizontally. It supports `‘start’`, `‘center’`, and `‘end’` values and can be set for both horizontal and vertical directions at once or for each separately by passing in a tuple of the form `(horizontal, vertical)`."
   ]
  },
  {
   "cell_type": "code",
   "execution_count": null,
   "id": "54c4a78f-8319-4dc5-ae34-b6a5b4d3faf5",
   "metadata": {
    "tags": []
   },
   "outputs": [],
   "source": [
    "pn.Row(\n",
    "    pn.widgets.IntSlider(),\n",
    "    pn.widgets.IntSlider(align=('center', 'start')),\n",
    "    height=100,\n",
    "    styles={'background': 'lightgrey'},\n",
    ")"
   ]
  },
  {
   "cell_type": "markdown",
   "id": "89e8bf9f-1fb0-4671-aafc-f2d9ca5927fc",
   "metadata": {},
   "source": [
    "## Templates"
   ]
  },
  {
   "cell_type": "markdown",
   "id": "e9ecb24f-61e0-42e5-ae32-18c045344c9e",
   "metadata": {},
   "source": [
    "A template is the HTML document that ends up being served by your app, it defines what resources (Javascript, CSS) need to be loaded, the page title, where the Panel objects are supposed to be rendered on the page, etc."
   ]
  },
  {
   "cell_type": "markdown",
   "id": "ae11ee09-773d-4df4-ab5e-521ed02568b9",
   "metadata": {},
   "source": [
    "When you serve an app without defining a particular template Panel serves it with its default template, that is pretty much a blank canvas where the served objects, if there are a few of them, will be rendered vertically one after the other."
   ]
  },
  {
   "cell_type": "markdown",
   "id": "235da2e8-7b74-40ec-ade3-30bcbefda6d0",
   "metadata": {},
   "source": [
    "Try saving the following snippet in a `app.py` file and serving it with `panel serve app.py --show`\n",
    "\n",
    "```python\n",
    "import panel as pn\n",
    "\n",
    "pn.panel('# Title').servable()\n",
    "pn.panel('Some text').servable()\n",
    "pn.panel('More text').servable()\n",
    "```"
   ]
  },
  {
   "cell_type": "markdown",
   "id": "496708aa-aa11-45d5-8d9e-99067ab3e0ed",
   "metadata": {},
   "source": [
    "When developing an app, someone (possibly you!) will require at some point to make it prettier! A quick way to achieve that is to wrap your app in one of the templates that Panel provides, that are defined by declaring four main content areas on the page, which can be populated as desired:\n",
    "\n",
    "- `header`: The header area of the HTML page\n",
    "- `sidebar`: A collapsible sidebar\n",
    "- `main`: The main area of the application\n",
    "- `modal`: A modal, i.e. a dialog box/popup window\n",
    "\n",
    "These four areas behave very similarly to layouts that have list-like semantics. This means we can easily append new components into these areas. Unlike other layout components however, the contents of the areas is fixed once rendered. If you need a dynamic layout you should therefore insert a regular layout (e.g. a `Column` or `Row`) and modify it in place once added to one of the content areas."
   ]
  },
  {
   "cell_type": "markdown",
   "id": "0546bd9e-e802-4a78-8060-6207b21f8754",
   "metadata": {
    "tags": []
   },
   "source": [
    "<img src=\"https://panel.holoviz.org/_static/images/template_areas.png\" style=\"margin-left: auto; margin-right: auto; display: block;\"></img>"
   ]
  },
  {
   "cell_type": "markdown",
   "id": "82be8fce-40af-4b05-8614-9115d1184ff3",
   "metadata": {},
   "source": [
    ":::{warning}\n",
    "The templates provided by Panel should not be rendered in a notebook, as their CSS styling usually doesn't play well with the CSS styling of the notebook itself.\n",
    ":::\n"
   ]
  },
  {
   "cell_type": "markdown",
   "id": "9ae14a40-dcba-439e-bbe2-edc9c8083773",
   "metadata": {},
   "source": [
    "Since an app can only have one template, Panel allows to declare the app template via `pn.extension(template='..')`. Of course you can also explicitly instantiate a template and manipulate it as you would do with other Panel objects. Try serving the content of this snippet."
   ]
  },
  {
   "cell_type": "markdown",
   "id": "1bcf4870-b32d-42ee-b3fd-b6b85a84124b",
   "metadata": {},
   "source": [
    "```python\n",
    "import panel as pn\n",
    "\n",
    "\n",
    "template = pn.template.BootstrapTemplate(title='Loving Panel!')\n",
    "\n",
    "\n",
    "def compute(i):\n",
    "    return '❤️' * i\n",
    "\n",
    "\n",
    "w_number = pn.widgets.IntSlider(value=5, start=1, end=5)\n",
    "p_hearts = pn.panel(pn.bind(compute, w_number))\n",
    "\n",
    "template.sidebar.append(w_number)\n",
    "template.main.append(p_hearts)\n",
    "template.show()\n",
    "```"
   ]
  },
  {
   "cell_type": "markdown",
   "id": "20a24305-3d0c-4a07-ae07-bb5a1d81a765",
   "metadata": {},
   "source": [
    "## Notifications"
   ]
  },
  {
   "cell_type": "markdown",
   "id": "1fbd9f2a-8e58-4e15-812e-d64baddaac05",
   "metadata": {},
   "source": [
    "The web apps you end up building with Panel are often quite interactive. Therefore you will be interested in finding a way to let your users know what's going on, when their operations succeed or abort, etc. This is exactly what notifications are for! Contrary to the components we have just covered, notifications are objects you don't manipulate directly, instead you just call `pn.state.notifications` with one the following methods: `success`, `info`, `warning` and `error`. "
   ]
  },
  {
   "cell_type": "code",
   "execution_count": null,
   "id": "5dbbee2f-e7ec-4c11-85fc-1434293958a3",
   "metadata": {
    "tags": []
   },
   "outputs": [],
   "source": [
    "pn.state.notifications.success('Your first notification!')"
   ]
  },
  {
   "cell_type": "code",
   "execution_count": null,
   "id": "e1e7ea3c-1a98-4217-8ac5-3fb20ae6f273",
   "metadata": {
    "tags": []
   },
   "outputs": [],
   "source": [
    "pn.state.notifications.error('Oops!', duration=5000)"
   ]
  }
 ],
 "metadata": {
  "language_info": {
   "name": "python",
   "pygments_lexer": "ipython3"
  }
 },
 "nbformat": 4,
 "nbformat_minor": 5
}
