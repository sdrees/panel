{
 "cells": [
  {
   "cell_type": "markdown",
   "id": "516a5f6e-e884-4ba7-8cbe-4ee493af24f7",
   "metadata": {},
   "source": [
    ":::{note} Tutorial 3. **Interactivity**\n",
    ":icon: false\n",
    "\n",
    "#### Effectively using APIs for adding interactivity and reactivity\n",
    "\n",
    "In the previous section we learned a lot about Param, which underlies not only the core architecture of Panel itself but also provides the foundation to adding interactivity to your applications. In this section we will discover how to leverage Parameters and dependencies on parameters to add interactivity. In particular we will focus on implementing interactivity through reactivity, rather than the more imperative style of programming you might be used to from other UI frameworks.\n",
    "\n",
    "By the end of this tutorial you should have learned:\n",
    "\n",
    "- How to use both declarative and imperative APIs to achieve interactivity\n",
    "- How to develop both functional and class based interactive apps\n",
    "\n",
    ":::"
   ]
  },
  {
   "cell_type": "code",
   "execution_count": null,
   "id": "2b059ba6-2c56-498b-a2d1-5532cb64011a",
   "metadata": {},
   "outputs": [],
   "source": [
    "import pandas as pd\n",
    "import param\n",
    "import panel as pn\n",
    "\n",
    "pn.extension('tabulator')"
   ]
  },
  {
   "cell_type": "markdown",
   "id": "f4ab18fa-3f81-43aa-a4de-bc10f6da3f8e",
   "metadata": {},
   "source": [
    "## Declarative vs. Imperative programming\n",
    "\n",
    "To build an interactive component in Panel we have two options, either we define callbacks that perform explicit actions, e.g. \"when this widget changes update this component\", or we declare reactive functions, methods or expressions that returns a specific output given some input and automatically manage the state.\n",
    "\n",
    "Let's look at what this looks like in practice by building a simple app that allows us to select a subset of columns to display in a table.\n",
    "\n",
    "### Imperative\n",
    "\n",
    "In both cases we start by loading our data and then defining a widget that will allow us to interact with the data:"
   ]
  },
  {
   "cell_type": "code",
   "execution_count": null,
   "id": "b0cedaaa-c66d-4ea9-83de-09b8a1e4bc6c",
   "metadata": {},
   "outputs": [],
   "source": [
    "data_url = 'https://datasets.holoviz.org/windturbines/v1/windturbines.parq'\n",
    "\n",
    "turbines = pd.read_parquet(data_url)\n",
    "\n",
    "cols = pn.widgets.MultiChoice(\n",
    "    options=turbines.columns.to_list(), value=['p_name', 't_state', 't_county', 'p_year', 't_manu', 'p_cap'],\n",
    "    width=500, height=120, name='Columns'\n",
    ")"
   ]
  },
  {
   "cell_type": "markdown",
   "id": "d7c689bf-aaf7-4d2b-a13f-9dba22567e71",
   "metadata": {},
   "source": [
    "In the imperative approach we use `.param.watch` to set up a callback that will update the data when the widget changes:"
   ]
  },
  {
   "cell_type": "code",
   "execution_count": null,
   "id": "a75bfa12-f172-4487-9ad7-3bc7e25eec4c",
   "metadata": {},
   "outputs": [],
   "source": [
    "table = pn.widgets.Tabulator(turbines[cols.value], page_size=5)\n",
    "\n",
    "def update_data(event):\n",
    "    table.value = turbines[event.new]\n",
    "\n",
    "cols.param.watch(update_data, 'value')\n",
    "\n",
    "pn.Column(cols, table)"
   ]
  },
  {
   "cell_type": "markdown",
   "id": "e29a91c2-5fbe-4727-9021-6d5c2cd62d87",
   "metadata": {},
   "source": [
    "## Declarative\n",
    "\n",
    "The declarative and reactive approach differs in that we only have to declare what we want to display and Panel takes care of the actual mechanics of updating the table for us:"
   ]
  },
  {
   "cell_type": "code",
   "execution_count": null,
   "id": "0e706660-5d37-420b-975b-ae06dc900e05",
   "metadata": {},
   "outputs": [],
   "source": [
    "dfrx = pn.rx(turbines)[cols]\n",
    "\n",
    "pn.Column(cols, pn.widgets.Tabulator(dfrx, page_size=5))"
   ]
  },
  {
   "cell_type": "markdown",
   "id": "4c5d82a2-fa8d-47e7-85f6-070702f50067",
   "metadata": {},
   "source": [
    "Note how we pass the reactive DataFrame to the `Tabulator` widget. This goes back to the concept of passing references, which Param and Panel will resolve. Valid references include:\n",
    "\n",
    "- `param.Parameter()`\n",
    "- `param.rx(...)`\n",
    "- `pn.bind(func)`\n",
    "- `pn.widgets.Widget()`"
   ]
  },
  {
   "cell_type": "markdown",
   "id": "61c5c59c-2300-4465-b35a-8508dad2fb13",
   "metadata": {},
   "source": [
    "### Exercise\n",
    "\n",
    "Extend the app below by adding widgets that will let you to filter the data by year (`p_year`) and capacity (`p_cap`):\n",
    "\n",
    ":::{note} Hint\n",
    ":class: dropdown\n",
    "\n",
    "```python\n",
    " You can filter a reactive DataFrame in the same way as a regular DataFrame.\n",
    "```\n",
    ":::"
   ]
  },
  {
   "cell_type": "markdown",
   "id": "c7d3a5e1-524a-4090-b58f-a3a3cc2194c4",
   "metadata": {},
   "source": [
    "Now briefly consider how this would look if you wrote this application using the imperative style of programming."
   ]
  },
  {
   "cell_type": "markdown",
   "id": "ce5d2d43-4057-48a1-aa74-83509b77e8da",
   "metadata": {},
   "source": [
    "## Function vs. class based\n",
    "\n",
    "Reactive functions and expressions based on `pn.bind` and `pn.rx` provide an excellent entrypoint when writing dynamic UIs. However as soon as we want to track state or have many consumers of the output it can be hard to keep track. This is where classes come in. \n",
    "\n",
    "If you remember the [Param section](./01_Param.ipynb) a `Parameterized` class allows you to encapsulate state as parameters and those parameters can then be passed around to set up interactivity. Let's revive our `DataExplorer` class from that earlier lesson and see how we can structure a filtering application like above:"
   ]
  },
  {
   "cell_type": "code",
   "execution_count": null,
   "id": "9cf73263-18bb-4ee8-baca-05322aae474c",
   "metadata": {},
   "outputs": [],
   "source": [
    "import param\n",
    "\n",
    "from panel.viewable import Viewer\n",
    "\n",
    "class DataExplorer(Viewer):\n",
    "    \n",
    "    data = param.DataFrame(doc=\"Stores a DataFrame to explore\")\n",
    "\n",
    "    columns = param.ListSelector(default=['p_name', 't_state', 't_county', 'p_year', 't_manu', 'p_cap'])\n",
    "\n",
    "    year = param.Range(default=(1981, 2022), bounds=(1981, 2022))\n",
    "    \n",
    "    capacity = param.Range(default=(0, 1100), bounds=(0, 1100))\n",
    "    \n",
    "    def __init__(self, **params):\n",
    "        super().__init__(**params)        \n",
    "        self.param.columns.objects = self.data.columns.to_list()\n",
    "\n",
    "    @param.depends('data', 'columns', 'year', 'capacity')\n",
    "    def filtered_data(self):\n",
    "        df = self.data\n",
    "        return df[\n",
    "            df.p_year.between(*self.year) &\n",
    "            df.p_cap.between(*self.capacity)\n",
    "        ][self.columns]\n",
    "\n",
    "    def __panel__(self):\n",
    "        return pn.Column(\n",
    "            pn.Row(\n",
    "                pn.widgets.MultiChoice.from_param(self.param.columns, width=400),\n",
    "                pn.Column(self.param.year, self.param.capacity)\n",
    "            ),\n",
    "            pn.widgets.Tabulator(\n",
    "                self.filtered_data, page_size=10, pagination='remote'\n",
    "            )\n",
    "        )\n",
    "    \n",
    "DataExplorer(data=turbines)"
   ]
  },
  {
   "cell_type": "markdown",
   "id": "b9f5073f-2578-46fb-b882-8a867a3d6555",
   "metadata": {},
   "source": [
    "As you can see `param.depends` allows us to set up a method that depends on specific parameters on the class (much like `pn.bind`) and then use that method as a proxy for the filtered data. An alternative approach would be to create a parameter to store the filtered data that runs every time one of the dependencies change."
   ]
  },
  {
   "cell_type": "code",
   "execution_count": null,
   "id": "cd5f3b0b-493c-4a31-bf8d-6ac486ba74f9",
   "metadata": {},
   "outputs": [],
   "source": [
    "class DataExplorer(Viewer):\n",
    "    \n",
    "    data = param.DataFrame(doc=\"Stores a DataFrame to explore\")\n",
    "\n",
    "    columns = param.ListSelector(default=['p_name', 't_state', 't_county', 'p_year', 't_manu', 'p_cap'])\n",
    "\n",
    "    year = param.Range(default=(1981, 2022), bounds=(1981, 2022))\n",
    "    \n",
    "    capacity = param.Range(default=(0, 1100), bounds=(0, 1100))\n",
    "    \n",
    "    filtered = param.DataFrame(doc=\"Stores the filtered DataFrame\")\n",
    "\n",
    "    @param.depends('data', 'year', 'capacity', 'columns', watch=True, on_init=True)\n",
    "    def _update_filtered(self):\n",
    "        self.filtered = self.data[\n",
    "            self.data.p_year.between(*self.year) &\n",
    "            self.data.p_cap.between(*self.capacity)\n",
    "        ][self.columns]\n",
    "\n",
    "    @param.depends('filtered')\n",
    "    def _table(self):\n",
    "        pass\n",
    "\n",
    "    @param.depends('filtered')\n",
    "    def _figure(self):\n",
    "        pass\n",
    "\n",
    "DataExplorer(data=turbines, year=(2021, 2022), capacity=(1000, 1100)).filtered.head()"
   ]
  },
  {
   "cell_type": "markdown",
   "id": "9cceb8b0-3b83-4d80-a8e7-a48692a9c820",
   "metadata": {},
   "source": [
    "The difference between these approaches is that in the first case the `filtered_data` method acts as a declarative reference which is evaluated when needed, while `_update_filtered` runs whenever any of the dependencies change in an imperative way, i.e. it is just an easy way to write a callback. The benefit of storing the filtered data is that multiple consumers can now have access to it.\n",
    "\n",
    "There are no hard rules when to use which approach, imperative approaches are very explicit about state management often making them easier to reason about than a reactive approach where the state management is hidden or controlled via helpers such as `@pn.cache`."
   ]
  },
  {
   "cell_type": "markdown",
   "id": "7af47c45-739b-48e2-8d99-0919439e461d",
   "metadata": {},
   "source": [
    "### Exercise\n",
    "\n",
    "Write an app that allows filtering the DataFrame and display both a table and a plot and caches the data on an intermediate parameter. You can use any plotting library you want.\n",
    "\n",
    ":::{note} Hint\n",
    ":class: dropdown\n",
    "\n",
    "```python\n",
    "import hvplot.pandas\n",
    "plot = turbines.hvplot.points('easting', 'northing', tiles='ESRI', rasterize=True)\n",
    "```\n",
    ":::"
   ]
  }
 ],
 "metadata": {
  "language_info": {
   "name": "python",
   "pygments_lexer": "ipython3"
  }
 },
 "nbformat": 4,
 "nbformat_minor": 5
}
