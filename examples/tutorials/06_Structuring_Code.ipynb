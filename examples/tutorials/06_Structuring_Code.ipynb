{
 "cells": [
  {
   "cell_type": "markdown",
   "id": "9afc801a-60d4-4e0b-babf-78e239ad2a43",
   "metadata": {},
   "source": [
    ":::{note} Tutorial 6. **Structuring Codebases**\n",
    ":icon: false\n",
    "\n",
    "#### Classes and Design Patterns\n",
    "\n",
    "Once you go beyond a simple dashboard or data app to a full fleshed application organizing your code and reasoning about state become a lot more difficult. In this section we will explore some common design patterns for structuring the code for your larger application.\n",
    "\n",
    ":::"
   ]
  },
  {
   "cell_type": "code",
   "execution_count": null,
   "id": "3d216468-17a3-4e4c-bec5-88e150fe9bf6",
   "metadata": {
    "tags": []
   },
   "outputs": [],
   "source": [
    "import param\n",
    "import pandas as pd\n",
    "import panel as pn\n",
    "\n",
    "pn.extension('tabulator', 'vega', throttled=True)"
   ]
  },
  {
   "cell_type": "markdown",
   "id": "de72441f-bbf8-4af6-b1d7-73b4f70b0d1e",
   "metadata": {},
   "source": [
    "## Building the app\n",
    "\n",
    "Now that we have covered the preliminaries lets actually build an app that more closely resembles something you might actually use in production.\n",
    "\n",
    "When building a more complex application we generally recommend using a class based construction and following best practices for object-oriented programming, specifically composition. \n",
    "\n",
    "One particular design pattern that has proven quite successful across a wide range of use cases is something we will put into effect here, specifically we will construct:\n",
    "\n",
    "- A `DataStore` that loads data from the catalog and defines a variable number of filters.\n",
    "- A `View` component that consumes the data and then displays it."
   ]
  },
  {
   "cell_type": "markdown",
   "id": "878413b1-23a5-49fd-88af-4c75e8968696",
   "metadata": {},
   "source": [
    "#### The DataStore\n",
    "\n",
    "We won't worry too much about the implementation details of this data store implementation but it's worth noting at a high-level it does a few simple things:\n",
    "\n",
    "1. Initialize a data catalog using the automatic access controls.\n",
    "2. Load a `table` from the data store and automatically generating a set of filters for each source."
   ]
  },
  {
   "cell_type": "code",
   "execution_count": null,
   "id": "cd43cd2e-6363-4f89-ace1-92376f50aab1",
   "metadata": {
    "tags": []
   },
   "outputs": [],
   "source": [
    "from panel.viewable import Viewer\n",
    "\n",
    "CARD_STYLE = \"\"\"\n",
    ":host {{\n",
    "  box-shadow: rgba(50, 50, 93, 0.25) 0px 6px 12px -2px, rgba(0, 0, 0, 0.3) 0px 3px 7px -3px;\n",
    "  padding: {padding};\n",
    "}} \"\"\"\n",
    "\n",
    "class DataStore(Viewer):\n",
    "    \n",
    "    data = param.DataFrame()\n",
    "\n",
    "    filters = param.List(constant=True)\n",
    "\n",
    "    def __init__(self, **params):\n",
    "        super().__init__(**params)\n",
    "        dfx = self.param.data.rx()\n",
    "        widgets = []\n",
    "        for filt in self.filters:\n",
    "            dtype = self.data.dtypes[filt]\n",
    "            if dtype.kind == 'f':\n",
    "                widget = pn.widgets.RangeSlider(name=filt, start=dfx[filt].min(), end=dfx[filt].max())\n",
    "                condition = dfx[filt].between(*widget.rx())\n",
    "            else:\n",
    "                options = dfx[filt].unique().tolist()\n",
    "                widget = pn.widgets.MultiChoice(name=filt, options=options)\n",
    "                condition = dfx[filt].isin(widget.rx().rx.where(widget, options))\n",
    "            dfx = dfx[condition]\n",
    "            widgets.append(widget)\n",
    "        self.filtered = dfx\n",
    "        self.count = dfx.rx.len()\n",
    "        self.total_capacity = dfx.t_cap.sum()\n",
    "        self.avg_capacity = dfx.t_cap.mean()\n",
    "        self.avg_rotor_diameter = dfx.t_rd.mean()\n",
    "        self.top_manufacturers = dfx.groupby('t_manu').p_cap.sum().sort_values().iloc[-10:].index.to_list()\n",
    "        self._widgets = widgets\n",
    "\n",
    "    def filter(self, ):\n",
    "        return \n",
    "        \n",
    "    def __panel__(self):\n",
    "        return pn.Column('## Filters', *self._widgets, stylesheets=[CARD_STYLE.format(padding='5px 10px')], margin=10)\n"
   ]
  },
  {
   "cell_type": "markdown",
   "id": "44a2445b-4653-49a1-a605-d890273759e6",
   "metadata": {},
   "source": [
    "Here we declared a `DataStore` class that will be responsible for loading some data and transforming it in various ways and a `View` class that holds a reference to the `DataStore` as a parameter. Now we can have any number of concrete `View` classes that consume data from the DataStore and render it in any number of ways:"
   ]
  },
  {
   "cell_type": "markdown",
   "id": "8d03ee78-e85e-4078-9d7e-92d9c61cdf4e",
   "metadata": {},
   "source": [
    "### The Views"
   ]
  },
  {
   "cell_type": "code",
   "execution_count": null,
   "id": "a5d4d9b1-fd3b-4c09-936a-4fc0517ba86f",
   "metadata": {
    "tags": []
   },
   "outputs": [],
   "source": [
    "import altair as alt\n",
    "import holoviews as hv\n",
    "import hvplot.pandas\n",
    "\n",
    "class View(Viewer):\n",
    "\n",
    "    data_store = param.ClassSelector(class_=DataStore)\n",
    "\n",
    "class Table(View):\n",
    "    \n",
    "    columns = param.List(default=['p_name', 'p_year', 't_state', 't_county', 't_manu', 't_cap', 'p_cap'])\n",
    "    \n",
    "    def __panel__(self):\n",
    "        data = self.data_store.filtered[self.param.columns]\n",
    "        return pn.widgets.Tabulator(\n",
    "            data, pagination='remote', page_size=13, stylesheets=[CARD_STYLE.format(padding='10px')],\n",
    "            margin=10,\n",
    "        )\n",
    "    \n",
    "class Histogram(View):\n",
    "\n",
    "    def __panel__(self):\n",
    "        df = self.data_store.filtered\n",
    "        df = df[df.t_manu.isin(self.data_store.top_manufacturers)]\n",
    "        fig = pn.rx(alt.Chart)((df.rx.len()>5000).rx.where(df.sample(5000), df),  title='Capacity by Manufacturer').mark_circle(size=8).encode(\n",
    "            y=\"t_manu:N\",\n",
    "            x=\"p_cap:Q\",\n",
    "            yOffset=\"jitter:Q\",\n",
    "            color=alt.Color('t_manu:N').legend(None)\n",
    "        ).transform_calculate(\n",
    "            jitter=\"sqrt(-2*log(random()))*cos(2*PI*random())\"\n",
    "        ).properties(\n",
    "            height=400,\n",
    "            width=600,\n",
    "        )\n",
    "        return pn.pane.Vega(fig, stylesheets=[CARD_STYLE.format(padding='0')], margin=10)\n",
    "    \n",
    "class Indicators(View):\n",
    "    \n",
    "    def __panel__(self):\n",
    "        style = {'stylesheets': [CARD_STYLE.format(padding='10px')]}\n",
    "        return pn.FlexBox(\n",
    "            pn.indicators.Number(\n",
    "                value=self.data_store.total_capacity / 1e6, name='Total Capacity (TW)', format='{value:,.2f}', **style\n",
    "            ),\n",
    "            pn.indicators.Number(\n",
    "                value=self.data_store.count, name='Count', format='{value:,.0f}', **style\n",
    "            ),\n",
    "            pn.indicators.Number(\n",
    "                value=self.data_store.avg_capacity , name='Avg. Capacity (kW)', format='{value:,.2f}', **style\n",
    "            ),\n",
    "            pn.indicators.Number(\n",
    "                value=self.data_store.avg_rotor_diameter, name='Avg. Rotor Diameter (m)', format='{value:,.2f}', **style\n",
    "            ),\n",
    "            pn.indicators.Number(\n",
    "                value=self.data_store.avg_rotor_diameter, name='Avg. Rotor Diameter (m)', format='{value:,.2f}', **style\n",
    "            ),\n",
    "        )"
   ]
  },
  {
   "cell_type": "markdown",
   "id": "5742bcdd-6288-4510-9f7e-0f71f82aeb95",
   "metadata": {},
   "source": [
    "The beauty of this compositional approach to constructing application components is that they are now usable in multiple contexts, e.g. you can use them in a notebook:"
   ]
  },
  {
   "cell_type": "code",
   "execution_count": null,
   "id": "b72587c0-6e87-4715-ae43-8eb4488d5c3d",
   "metadata": {},
   "outputs": [],
   "source": [
    "data_url = 'https://datasets.holoviz.org/windturbines/v1/windturbines.parq'\n",
    "\n",
    "turbines = pd.read_parquet(data_url)\n",
    "\n",
    "ds = DataStore(data=turbines, filters=['p_year', 'p_cap', 't_manu'])\n",
    "\n",
    "pn.Row(\n",
    "    ds,\n",
    "    pn.Tabs(\n",
    "        ('Table', Table(data_store=ds)),\n",
    "        ('Histogram', Histogram(data_store=ds)),\n",
    "        ('Indicators', Indicators(data_store=ds)),\n",
    "        sizing_mode='stretch_width',\n",
    "    )\n",
    ")"
   ]
  },
  {
   "cell_type": "markdown",
   "id": "565d7dcc-37ed-470d-9d80-e9b075571c52",
   "metadata": {},
   "source": [
    "Or we can coordinate these components inside of `App` class that handles the creation of the `View` components and lays them out on the pag or template:"
   ]
  },
  {
   "cell_type": "code",
   "execution_count": null,
   "id": "e721e57b-bbd5-4c56-8f8c-d7328fd0c1f0",
   "metadata": {
    "tags": []
   },
   "outputs": [],
   "source": [
    "class App(Viewer):\n",
    "    \n",
    "    data_store = param.ClassSelector(class_=DataStore)\n",
    "    \n",
    "    title = param.String()\n",
    "    \n",
    "    views = param.List()\n",
    "    \n",
    "    def __init__(self, **params):\n",
    "        super().__init__(**params)\n",
    "        updating = self.data_store.filtered.rx.updating()\n",
    "        updating.rx.watch(lambda updating: pn.state.curdoc.hold() if updating else pn.state.curdoc.unhold()) \n",
    "        self._views = pn.FlexBox(*(view(data_store=self.data_store) for view in self.views), loading=updating)\n",
    "        self._template = pn.template.MaterialTemplate(title=self.title)\n",
    "        self._template.sidebar.append(self.data_store)\n",
    "        self._template.main.append(self._views)\n",
    "        \n",
    "    def servable(self):\n",
    "        if pn.state.served:\n",
    "            return self._template.servable()\n",
    "        return self\n",
    "        \n",
    "    def __panel__(self):\n",
    "        return pn.Row(self.data_store, self._views)"
   ]
  },
  {
   "cell_type": "markdown",
   "id": "d28118c7-9168-4006-8d42-06a3c6ef1da5",
   "metadata": {},
   "source": [
    "Now let's see what we have built:"
   ]
  },
  {
   "cell_type": "code",
   "execution_count": null,
   "id": "74d6a42a-5b93-41c2-b005-e876f5aa3565",
   "metadata": {
    "tags": []
   },
   "outputs": [],
   "source": [
    "ds = DataStore(data=turbines, filters=['p_year', 'p_cap', 't_manu'])\n",
    "\n",
    "app = App(data_store=ds, views=[Indicators, Histogram, Table], title='Windturbine Explorer')\n",
    "\n",
    "app.servable()"
   ]
  },
  {
   "cell_type": "markdown",
   "id": "bf54788c-730c-48b5-8ab2-5df7f639ebda",
   "metadata": {},
   "source": [
    "<div class=\"header-box\" style=\"box-shadow: rgba(50, 50, 93, 0.25) 0px 6px 12px -2px, rgba(0, 0, 0, 0.3) 0px 3px 7px -3px; padding: 5px 10px; border-left: 4px solid green;\">\n",
    "\n",
    "### Exercise\n",
    "\n",
    "Now it is time to get started for real and extend the existing application. Build your own `View` and add it to the `App`, then deploy it. \n",
    "\n",
    "</div>"
   ]
  }
 ],
 "metadata": {
  "language_info": {
   "name": "python",
   "pygments_lexer": "ipython3"
  }
 },
 "nbformat": 4,
 "nbformat_minor": 5
}
